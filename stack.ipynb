{
 "cells": [
  {
   "cell_type": "markdown",
   "metadata": {},
   "source": [
    "## LC: 20 Valid Parantheses"
   ]
  },
  {
   "cell_type": "markdown",
   "metadata": {},
   "source": [
    "Given a string s containing just the characters '(', ')', '{', '}', '[' and ']', determine if the input string is valid.\n",
    "\n",
    "An input string is valid if:\n",
    "\n",
    "Open brackets must be closed by the same type of brackets.\n",
    "Open brackets must be closed in the correct order.\n",
    "Every close bracket has a corresponding open bracket of the same type.\n",
    " \n",
    "\n",
    "Example 1:\n",
    "\n",
    "Input: s = \"()\"\n",
    "\n",
    "Output: true\n",
    "\n",
    "Example 2:\n",
    "\n",
    "Input: s = \"()[]{}\"\n",
    "\n",
    "Output: true\n",
    "\n",
    "Example 3:\n",
    "\n",
    "Input: s = \"(]\"\n",
    "\n",
    "Output: false\n",
    "\n",
    "Example 4:\n",
    "\n",
    "Input: s = \"([])\"\n",
    "\n",
    "Output: true\n",
    "\n",
    " \n",
    "\n",
    "Constraints:\n",
    "\n",
    "1 <= s.length <= 104\n",
    "s consists of parentheses only '()[]{}'."
   ]
  },
  {
   "cell_type": "code",
   "execution_count": 3,
   "metadata": {},
   "outputs": [],
   "source": [
    "s0 = \"()\"       # True\n",
    "s1 = \"()[]{}\"   # True\n",
    "s2 = \"(]\"       # False\n",
    "s3 = \"([])\"     # True"
   ]
  },
  {
   "cell_type": "markdown",
   "metadata": {},
   "source": [
    "### dirty solution"
   ]
  },
  {
   "cell_type": "code",
   "execution_count": null,
   "metadata": {},
   "outputs": [],
   "source": [
    "def isValid(s: str) -> bool:\n",
    "    stack = []\n",
    "    closeToOpen = {\")\": \"(\", \"]\":\"[\", \"}\":\"{\" }\n",
    "    if len(s) % 2 != 0:  # if number is not even can not be valid\n",
    "        return False\n",
    "    if s[0] in closeToOpen.keys():\n",
    "        print(\"string: \", s, \" can not start with \", closeToOpen.keys())\n",
    "        return False\n",
    "    for i in s:\n",
    "        print(\"i is:\", i)\n",
    "        if i in closeToOpen.values():\n",
    "            print(i, \" added to stack\")\n",
    "            stack.append(i) # if i == ( or [ or {\n",
    "            print(\"current stack is:\", stack)\n",
    "        elif len(stack) != 0:\n",
    "            if closeToOpen[i] == stack[-1]:\n",
    "                print(\"there is a match! '\", i, \"' is popped\")\n",
    "                stack.pop()\n",
    "                print(\"stack after pop: \", stack)\n",
    "            elif closeToOpen[i] != stack[-1]:\n",
    "                return False\n",
    "        elif len(stack) == 0 and i in closeToOpen.keys():\n",
    "            return False\n",
    "        print(\"***************\")\n",
    "    if len(stack) == 0:\n",
    "        return True\n",
    "    return False"
   ]
  },
  {
   "cell_type": "code",
   "execution_count": 78,
   "metadata": {},
   "outputs": [],
   "source": [
    "s6 = \"()))\""
   ]
  },
  {
   "cell_type": "code",
   "execution_count": 79,
   "metadata": {},
   "outputs": [
    {
     "name": "stdout",
     "output_type": "stream",
     "text": [
      "i is: (\n",
      "(  added to stack\n",
      "current stack is: ['(']\n",
      "***************\n",
      "i is: )\n",
      "there is a match! ' ) ' is popped\n",
      "stack after pop:  []\n",
      "***************\n",
      "i is: )\n"
     ]
    },
    {
     "data": {
      "text/plain": [
       "False"
      ]
     },
     "execution_count": 79,
     "metadata": {},
     "output_type": "execute_result"
    }
   ],
   "source": [
    "isValid(s6)"
   ]
  },
  {
   "cell_type": "markdown",
   "metadata": {},
   "source": [
    "### my cleaned leetcode solution"
   ]
  },
  {
   "cell_type": "code",
   "execution_count": null,
   "metadata": {},
   "outputs": [],
   "source": [
    "def isValid(self, s: str) -> bool:\n",
    "        stack = []\n",
    "        hashset = {\")\": \"(\", \"]\":\"[\", \"}\":\"{\" }\n",
    "        if len(s) % 2 != 0 or s[0] in hashset.keys():\n",
    "            return False\n",
    "        for i in s:\n",
    "            if i in hashset.values():\n",
    "                stack.append(i)\n",
    "            elif len(stack) != 0:\n",
    "                if hashset[i] == stack[-1]:\n",
    "                    stack.pop()\n",
    "                elif hashset[i] != stack[-1]:\n",
    "                    return False\n",
    "            elif len(stack) == 0 and i in hashset.keys():\n",
    "                return False\n",
    "        if len(stack) == 0:\n",
    "            return True\n",
    "        return False"
   ]
  },
  {
   "cell_type": "code",
   "execution_count": null,
   "metadata": {},
   "outputs": [],
   "source": [
    "def isValid(s: str)-> bool:\n",
    "    stack = []\n",
    "    closeToOpen = {\")\": \"(\", \"]\":\"[\", \"}\":\"{\" }\n",
    "    for c in s:\n",
    "        if c in closeToOpen:\n",
    "            if stack and stack[-1] == closeToOpen[c]:\n",
    "                stack.pop()\n",
    "            else:\n",
    "                return False\n",
    "        else:\n",
    "            stack.append(c)\n",
    "    \n",
    "    return True if not stack else False"
   ]
  },
  {
   "cell_type": "markdown",
   "metadata": {},
   "source": [
    "## LC155: Min Stack"
   ]
  },
  {
   "cell_type": "markdown",
   "metadata": {},
   "source": [
    "Design a stack that supports push, pop, top, and retrieving the minimum element in constant time.\n",
    "\n",
    "Implement the MinStack class:\n",
    "\n",
    "MinStack() initializes the stack object.\n",
    "\n",
    "\n",
    "void push(int val) pushes the element val onto the stack.\n",
    "\n",
    "\n",
    "void pop() removes the element on the top of the stack.\n",
    "\n",
    "\n",
    "int top() gets the top element of the stack.\n",
    "\n",
    "\n",
    "int getMin() retrieves the minimum element in the stack.\n",
    "\n",
    "\n",
    "You must implement a solution with O(1) time complexity for each function.\n",
    "\n",
    "\n",
    "\n",
    "Example 1:\n",
    "\n",
    "Input\n",
    "[\"MinStack\",\"push\",\"push\",\"push\",\"getMin\",\"pop\",\"top\",\"getMin\"]\n",
    "\n",
    "\n",
    "[[],[-2],[0],[-3],[],[],[],[]]\n",
    "\n",
    "\n",
    "Output\n",
    "\n",
    "\n",
    "[null,null,null,null,-3,null,0,-2]\n",
    "\n",
    "Explanation\n",
    "MinStack minStack = new MinStack();\n",
    "\n",
    "minStack.push(-2);\n",
    "\n",
    "minStack.push(0);\n",
    "\n",
    "minStack.push(-3);\n",
    "\n",
    "minStack.getMin(); // return -3\n",
    "\n",
    "minStack.pop();\n",
    "\n",
    "minStack.top();    // return 0\n",
    "\n",
    "minStack.getMin(); // return -2\n",
    "\n",
    "\n",
    "Constraints:\n",
    "\n",
    "-231 <= val <= 231 - 1\n",
    "Methods pop, top and getMin operations will always be called on non-empty stacks.\n",
    "At most 3 * 104 calls will be made to push, pop, top, and getMin."
   ]
  },
  {
   "cell_type": "code",
   "execution_count": 115,
   "metadata": {},
   "outputs": [
    {
     "name": "stdout",
     "output_type": "stream",
     "text": [
      "1\n",
      "1\n",
      "stack exist and not empty\n"
     ]
    }
   ],
   "source": [
    "stack = []\n",
    "stack.append(1)\n",
    "print(stack[-1])\n",
    "print(len(stack))\n",
    "if stack:\n",
    "    print(\"stack exist and not empty\")"
   ]
  },
  {
   "cell_type": "code",
   "execution_count": 126,
   "metadata": {},
   "outputs": [],
   "source": [
    "class MinStack:\n",
    "    def __init__(self):\n",
    "        self.stack = []     # initalize empty stack with using list\n",
    "        self.minStack = []\n",
    "\n",
    "    def push(self, val: int) -> None:\n",
    "        self.stack.append(val)\n",
    "        if not self.minStack:\n",
    "            self.minStack.append(val)\n",
    "        else:\n",
    "            min = val if val < self.minStack[-1] else self.minStack[-1]\n",
    "            self.minStack.append(min)\n",
    "\n",
    "    def pop(self) -> None:      # what if popped value is the minimum?\n",
    "        self.stack.pop()\n",
    "        self.minStack.pop()\n",
    "\n",
    "    def top(self) -> int:\n",
    "        return self.stack[-1]\n",
    "\n",
    "    def getMin(self) -> int:\n",
    "        return self.minStack[-1]\n",
    "\n",
    "# Your MinStack object will be instantiated and called as such:\n",
    "# obj = MinStack()\n",
    "# obj.push(val)\n",
    "# obj.pop()\n",
    "# param_3 = obj.top()\n",
    "# param_4 = obj.getMin()"
   ]
  },
  {
   "cell_type": "code",
   "execution_count": 135,
   "metadata": {},
   "outputs": [
    {
     "name": "stdout",
     "output_type": "stream",
     "text": [
      "-9\n",
      "-8\n",
      "-8\n",
      "-8\n",
      "-8\n",
      "-6\n"
     ]
    }
   ],
   "source": [
    "obj = MinStack()\n",
    "obj.push(-6)\n",
    "obj.push(-8)\n",
    "obj.push(1)\n",
    "obj.push(-2)\n",
    "obj.push(-7)\n",
    "obj.push(-9)\n",
    "print(obj.getMin())\n",
    "obj.pop()\n",
    "print(obj.getMin())\n",
    "obj.pop()\n",
    "print(obj.getMin())\n",
    "obj.pop()\n",
    "print(obj.getMin())\n",
    "obj.pop()\n",
    "print(obj.getMin())\n",
    "obj.pop()\n",
    "print(obj.getMin())\n"
   ]
  },
  {
   "cell_type": "code",
   "execution_count": null,
   "metadata": {},
   "outputs": [],
   "source": []
  }
 ],
 "metadata": {
  "kernelspec": {
   "display_name": "env3.9",
   "language": "python",
   "name": "python3"
  },
  "language_info": {
   "codemirror_mode": {
    "name": "ipython",
    "version": 3
   },
   "file_extension": ".py",
   "mimetype": "text/x-python",
   "name": "python",
   "nbconvert_exporter": "python",
   "pygments_lexer": "ipython3",
   "version": "3.9.20"
  }
 },
 "nbformat": 4,
 "nbformat_minor": 2
}
