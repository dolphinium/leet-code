{
 "cells": [
  {
   "cell_type": "markdown",
   "metadata": {},
   "source": [
    "## LC 704: Binary Search"
   ]
  },
  {
   "cell_type": "markdown",
   "metadata": {},
   "source": [
    "Given an array of integers nums which is sorted in ascending order, and an integer target, write a function to search target in nums. If target exists, then return its index. Otherwise, return -1.\n",
    "\n",
    "\n",
    "You must write an algorithm with O(log n) runtime complexity.\n",
    "\n",
    "\n",
    "\n",
    "Example 1:\n",
    "\n",
    "Input: nums = [-1,0,3,5,9,12], target = 9\n",
    "\n",
    "\n",
    "Output: 4\n",
    "\n",
    "\n",
    "Explanation: 9 exists in nums and its index is 4\n",
    "\n",
    "\n",
    "Example 2:\n",
    "\n",
    "Input: nums = [-1,0,3,5,9,12], target = 2\n",
    "\n",
    "\n",
    "Output: -1\n",
    "\n",
    "\n",
    "Explanation: 2 does not exist in nums so return -1\n",
    "\n",
    " \n",
    "\n",
    "Constraints:\n",
    "\n",
    "1 <= nums.length <= 104\n",
    "-104 < nums[i], target < 104\n",
    "All the integers in nums are unique.\n",
    "nums is sorted in ascending order."
   ]
  },
  {
   "cell_type": "code",
   "execution_count": 2,
   "metadata": {},
   "outputs": [],
   "source": [
    "nums1 = [-1,0,3,5,9,12] # out = 4\n",
    "target1 = 9    \n",
    "nums2 = [-1,0,3,5,9,12] # out = -1\n",
    "target2 = 2    \n",
    "\n",
    "nums3 = [-1,0,3,5,9,12] # out = -1\n",
    "target3 = 5    \n",
    "\n",
    "nums4 = [2,5]\n",
    "target4 = 2\n",
    "\n",
    "nums5 = [-1,0,5]\n",
    "target5 = 5"
   ]
  },
  {
   "cell_type": "code",
   "execution_count": 3,
   "metadata": {},
   "outputs": [
    {
     "data": {
      "text/plain": [
       "([0, 5], [-1])"
      ]
     },
     "execution_count": 3,
     "metadata": {},
     "output_type": "execute_result"
    }
   ],
   "source": [
    "nums = [-1,0,5]\n",
    "rsa = nums[1:]\n",
    "lsa = nums[:1]\n",
    "rsa, lsa"
   ]
  },
  {
   "cell_type": "markdown",
   "metadata": {},
   "source": [
    "dummy binary search full of bugs"
   ]
  },
  {
   "cell_type": "code",
   "execution_count": 4,
   "metadata": {},
   "outputs": [],
   "source": [
    "def search(nums: list[int], target:int) -> int:\n",
    "    index = 0\n",
    "    for i in range(len(nums)):\n",
    "        mid = int(len(nums)/2)\n",
    "        print(\"mid index: \", mid, \" mid num: \", nums[mid])\n",
    "        if nums[mid] == target:\n",
    "            if i == 0 or len(nums) ==1:\n",
    "                return mid\n",
    "            print(len(nums), mid)\n",
    "            return len(nums) -1 + mid\n",
    "        elif len(nums) == 1 and nums[mid] != target:\n",
    "            return -1\n",
    "        elif nums[mid] < target:\n",
    "            nums = nums[mid:]   # take the right sub array\n",
    "            index += mid\n",
    "            print(nums)\n",
    "        else:\n",
    "            nums = nums[:mid]   # take the left sub array\n",
    "            print(nums)\n",
    "    return -1"
   ]
  },
  {
   "cell_type": "code",
   "execution_count": 5,
   "metadata": {},
   "outputs": [
    {
     "name": "stdout",
     "output_type": "stream",
     "text": [
      "mid index:  1  mid num:  0\n",
      "[0, 5]\n",
      "mid index:  1  mid num:  5\n",
      "2 1\n"
     ]
    },
    {
     "data": {
      "text/plain": [
       "2"
      ]
     },
     "execution_count": 5,
     "metadata": {},
     "output_type": "execute_result"
    }
   ],
   "source": [
    "search(nums5,target5)"
   ]
  },
  {
   "cell_type": "code",
   "execution_count": 16,
   "metadata": {},
   "outputs": [
    {
     "name": "stdout",
     "output_type": "stream",
     "text": [
      "[-1, 0, 3, 5, 9, 12]\n"
     ]
    },
    {
     "data": {
      "text/plain": [
       "[-1, 0]"
      ]
     },
     "execution_count": 16,
     "metadata": {},
     "output_type": "execute_result"
    }
   ],
   "source": [
    "print(nums1)\n",
    "nums1[0:2]"
   ]
  },
  {
   "cell_type": "code",
   "execution_count": 44,
   "metadata": {},
   "outputs": [
    {
     "data": {
      "text/plain": [
       "2"
      ]
     },
     "execution_count": 44,
     "metadata": {},
     "output_type": "execute_result"
    }
   ],
   "source": [
    "5//2"
   ]
  },
  {
   "cell_type": "code",
   "execution_count": 78,
   "metadata": {},
   "outputs": [],
   "source": [
    "def search(nums: list[int], target: int)-> int:\n",
    "    l, r = 0, len(nums)\n",
    "    while l<=r:\n",
    "        mid = (l+r) // 2\n",
    "        print(l, r)\n",
    "        print(\"mid index: \", mid)\n",
    "        print(\"mid num: \", nums[mid])\n",
    "        print(\"nums l to r: \", nums[l:r])\n",
    "        if nums[mid] == target:\n",
    "            return mid\n",
    "        elif len(nums[l:r]) <= 1 and nums[mid] != target:\n",
    "            return -1\n",
    "        elif nums[mid] < target:\n",
    "            l = mid\n",
    "        elif nums[mid] > target:\n",
    "            r = mid\n",
    "        # if len(nums[l:r]) <= 1 and nums[mid] != target:\n",
    "        #     return -1\n",
    "        print(\"***************\")\n",
    "    return -1"
   ]
  },
  {
   "cell_type": "code",
   "execution_count": 79,
   "metadata": {},
   "outputs": [
    {
     "name": "stdout",
     "output_type": "stream",
     "text": [
      "[2, 5] 2\n",
      "0 2\n",
      "mid index:  1\n",
      "mid num:  5\n",
      "nums l to r:  [2, 5]\n",
      "***************\n",
      "0 1\n",
      "mid index:  0\n",
      "mid num:  2\n",
      "nums l to r:  [2]\n"
     ]
    },
    {
     "data": {
      "text/plain": [
       "0"
      ]
     },
     "execution_count": 79,
     "metadata": {},
     "output_type": "execute_result"
    }
   ],
   "source": [
    "print(nums4, target4)\n",
    "search(nums4,target4)"
   ]
  },
  {
   "cell_type": "code",
   "execution_count": 36,
   "metadata": {},
   "outputs": [
    {
     "name": "stdout",
     "output_type": "stream",
     "text": [
      "[-1, 0, 3, 5, 9, 12] 9\n",
      "[-1, 0, 3, 5, 9, 12] 2\n",
      "[-1, 0, 3, 5, 9, 12] 5\n",
      "[2, 5] 2\n"
     ]
    }
   ],
   "source": [
    "print(nums1, target1)\n",
    "print(nums2, target2)\n",
    "print(nums3, target3)\n",
    "print(nums4, target4)"
   ]
  },
  {
   "cell_type": "markdown",
   "metadata": {},
   "source": [
    "## LC 74: Search a 2D Matrix"
   ]
  },
  {
   "cell_type": "markdown",
   "metadata": {},
   "source": [
    "You are given an m x n integer matrix matrix with the following two properties:\n",
    "\n",
    "Each row is sorted in non-decreasing order.\n",
    "The first integer of each row is greater than the last integer of the previous row.\n",
    "Given an integer target, return true if target is in matrix or false otherwise.\n",
    "\n",
    "You must write a solution in O(log(m * n)) time complexity."
   ]
  },
  {
   "cell_type": "code",
   "execution_count": 81,
   "metadata": {},
   "outputs": [],
   "source": [
    "matrix1 = [[1,3,5,7],[10,11,16,20],[23,30,34,60]]; target1 = 3      # out true  \n",
    "matrix2 = [[1,3,5,7],[10,11,16,20],[23,30,34,60]]; target2 = 13     # out false"
   ]
  },
  {
   "cell_type": "markdown",
   "metadata": {},
   "source": [
    "3x4 matrix  \n",
    "how to get determine which row to do binary search"
   ]
  },
  {
   "cell_type": "code",
   "execution_count": 88,
   "metadata": {},
   "outputs": [
    {
     "data": {
      "text/plain": [
       "[1, 3, 5, 7]"
      ]
     },
     "execution_count": 88,
     "metadata": {},
     "output_type": "execute_result"
    }
   ],
   "source": [
    "matrix1[0]"
   ]
  },
  {
   "cell_type": "markdown",
   "metadata": {},
   "source": [
    "unoptimized binary search with bug"
   ]
  },
  {
   "cell_type": "code",
   "execution_count": 125,
   "metadata": {},
   "outputs": [],
   "source": [
    "def searchMatrix(matrix: list[list[int]], target:int)-> bool:\n",
    "    n = len(matrix)\n",
    "    for r in range(n):       \n",
    "        print(\"iteration: \", r)\n",
    "        print(\"slice: \", matrix[r])\n",
    "        if r+1 < len(matrix):\n",
    "            if target >= matrix[r][0] and target < matrix[r+1][0]: # if true target should be on r th row \n",
    "                # scan the rth row for corresponding index DO BINARY SEARCH ON ARRAY SLICE\n",
    "                return binarySearch(matrix[r], target)\n",
    "        else:   \n",
    "            return binarySearch(matrix[r], target)\n",
    "            \n",
    "    return False\n",
    "\n",
    "def binarySearch(nums:list[int], target:int)-> bool:\n",
    "    l, r = 0, len(nums) -1\n",
    "    while l<=r:\n",
    "        mid = (l+r) // 2\n",
    "        print(l, r)\n",
    "        print(\"mid index: \", mid)\n",
    "        print(\"mid num: \", nums[mid])\n",
    "        print(\"nums l to r: \", nums[l:r])\n",
    "        if nums[mid] == target:\n",
    "            return True\n",
    "        elif len(nums[l:r]) <= 1 and nums[mid] != target:\n",
    "            return False\n",
    "        elif nums[mid] < target:\n",
    "            l = mid + 1\n",
    "        elif nums[mid] > target:\n",
    "            r = mid - 1\n",
    "    "
   ]
  },
  {
   "cell_type": "code",
   "execution_count": 127,
   "metadata": {},
   "outputs": [
    {
     "name": "stdout",
     "output_type": "stream",
     "text": [
      "[[1, 3, 5, 7], [10, 11, 16, 20], [23, 30, 34, 60]] 3\n",
      "iteration:  0\n",
      "slice:  [1, 3]\n",
      "0 1\n",
      "mid index:  0\n",
      "mid num:  1\n",
      "nums l to r:  [1]\n"
     ]
    },
    {
     "data": {
      "text/plain": [
       "False"
      ]
     },
     "execution_count": 127,
     "metadata": {},
     "output_type": "execute_result"
    }
   ],
   "source": [
    "print(matrix1, target1)\n",
    "searchMatrix([[1,3]], 3)"
   ]
  },
  {
   "cell_type": "markdown",
   "metadata": {},
   "source": [
    "corrected pushing to leetcode"
   ]
  },
  {
   "cell_type": "code",
   "execution_count": 129,
   "metadata": {},
   "outputs": [],
   "source": [
    "def binarySearch(matrix: list[list[int]], target:int)->bool:\n",
    "    n = len(matrix)\n",
    "    for r in range(n):\n",
    "        if r+1 < n:\n",
    "            if target >= matrix[r][0] and target < matrix[r+1][0]:\n",
    "                nums = matrix[r]\n",
    "                l,r = 0, len(nums) -1\n",
    "                while l<=r:\n",
    "                    mid = (l+r) // 2\n",
    "                    if nums[mid] == target:\n",
    "                        return True\n",
    "                    elif nums[mid] > target:\n",
    "                        r = mid - 1\n",
    "                    elif nums[mid] < target:\n",
    "                        l = mid + 1\n",
    "                return False\n",
    "        else:\n",
    "            nums = matrix[r]\n",
    "            l,r = 0, len(nums) -1\n",
    "            while l<=r:\n",
    "                mid = (l+r) // 2\n",
    "                if nums[mid] == target:\n",
    "                    return True\n",
    "                elif nums[mid] > target:\n",
    "                    r = mid - 1\n",
    "                elif nums[mid] < target:\n",
    "                    l = mid + 1\n",
    "            return False\n"
   ]
  },
  {
   "cell_type": "code",
   "execution_count": 131,
   "metadata": {},
   "outputs": [
    {
     "data": {
      "text/plain": [
       "False"
      ]
     },
     "execution_count": 131,
     "metadata": {},
     "output_type": "execute_result"
    }
   ],
   "source": [
    "binarySearch(matrix1, target2)"
   ]
  },
  {
   "cell_type": "markdown",
   "metadata": {},
   "source": [
    "binary- binary -> logm + logn solution"
   ]
  },
  {
   "cell_type": "code",
   "execution_count": 134,
   "metadata": {},
   "outputs": [
    {
     "data": {
      "text/plain": [
       "(3, 4)"
      ]
     },
     "execution_count": 134,
     "metadata": {},
     "output_type": "execute_result"
    }
   ],
   "source": [
    "len(matrix1),len(matrix1[0])"
   ]
  },
  {
   "cell_type": "code",
   "execution_count": 135,
   "metadata": {},
   "outputs": [
    {
     "data": {
      "text/plain": [
       "[[1, 3, 5, 7], [10, 11, 16, 20], [23, 30, 34, 60]]"
      ]
     },
     "execution_count": 135,
     "metadata": {},
     "output_type": "execute_result"
    }
   ],
   "source": [
    "matrix1"
   ]
  },
  {
   "cell_type": "code",
   "execution_count": 136,
   "metadata": {},
   "outputs": [
    {
     "data": {
      "text/plain": [
       "7"
      ]
     },
     "execution_count": 136,
     "metadata": {},
     "output_type": "execute_result"
    }
   ],
   "source": [
    "matrix1[0][-1]"
   ]
  },
  {
   "cell_type": "code",
   "execution_count": null,
   "metadata": {},
   "outputs": [],
   "source": [
    "def binarySearch(matrix: list[list[int]], target:int) -> bool:\n",
    "    ROWS, COLS = len(matrix), len(matrix[0])\n",
    "    \n",
    "    top, bot = 0, ROWS - 1\n",
    "    \n",
    "    # find row\n",
    "    while top <= bot:\n",
    "        row = (top + bot) // 2\n",
    "        if target > matrix[row][-1]:    # \n",
    "            top = row + 1 \n",
    "        elif target < matrix[row][0]:    # \n",
    "            bot = row - 1 \n",
    "        else:   # target == matrix[row][-1]:    # \n",
    "            break\n",
    "    if not (top <= bot):\n",
    "        return False\n",
    "    \n",
    "    row = (top + bot) // 2\n",
    "    l,r = 0, COLS-1\n",
    "    # find the elem in corresponding row\n",
    "    while l<=r:\n",
    "        m = (l+r) // 2\n",
    "        if target > matrix[row][m]:\n",
    "            l = m + 1\n",
    "        elif target < matrix[row][m]:\n",
    "            r = m - 1\n",
    "        else:\n",
    "            return True\n",
    "    return False\n",
    "    "
   ]
  }
 ],
 "metadata": {
  "kernelspec": {
   "display_name": "env3.9",
   "language": "python",
   "name": "python3"
  },
  "language_info": {
   "codemirror_mode": {
    "name": "ipython",
    "version": 3
   },
   "file_extension": ".py",
   "mimetype": "text/x-python",
   "name": "python",
   "nbconvert_exporter": "python",
   "pygments_lexer": "ipython3",
   "version": "3.9.20"
  }
 },
 "nbformat": 4,
 "nbformat_minor": 2
}
