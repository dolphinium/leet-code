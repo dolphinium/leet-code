{
 "cells": [
  {
   "cell_type": "markdown",
   "metadata": {},
   "source": [
    "## LC242: isAnagram"
   ]
  },
  {
   "cell_type": "code",
   "execution_count": 13,
   "metadata": {},
   "outputs": [],
   "source": [
    "def isAnagram(s: str, t: str) -> bool:\n",
    "    if len(s) != len(t) :\n",
    "        return False\n",
    "    \n",
    "    countS, countT = {}, {}\n",
    "    \n",
    "    for i in range(len(s)):\n",
    "        countS[s[i]] = 1 + countS.get(s[i], 0)      # 0 is default value\n",
    "        countT[t[i]] = 1 + countT.get(t[i], 0)      # 0 is default value\n",
    "    print(countS)\n",
    "    print(countT)    \n",
    "    \n",
    "    # control the key and values iterate over hashmaps(dictionaries)\n",
    "    for c in countS:\n",
    "        print('char is ', c)\n",
    "        print(countS[c], countT[c])\n",
    "        if countS[c] != countT.get(c, 0):           # set default value to 0 to dont throw a error\n",
    "            return False\n",
    "    \n",
    "\n"
   ]
  },
  {
   "cell_type": "code",
   "execution_count": 14,
   "metadata": {},
   "outputs": [],
   "source": [
    "def isAnagram(s: str, t: str) -> bool:\n",
    "    return sorted(s) == sorted(t) \n",
    "    \n",
    "    \n",
    "    if len(s) != len(t) :\n",
    "        return False\n",
    "    \n",
    "    countS, countT = {}, {}\n",
    "    \n",
    "    for i in range(len(s)):\n",
    "        countS[s[i]] = 1 + countS.get(s[i], 0)      # 0 is default value\n",
    "        countT[t[i]] = 1 + countT.get(t[i], 0)      # 0 is default value\n",
    "    print(countS)\n",
    "    print(countT)    \n",
    "    \n",
    "    # control the key and values iterate over hashmaps(dictionaries)\n",
    "    for c in countS:\n",
    "        print('char is ', c)\n",
    "        print(countS[c], countT[c])\n",
    "        if countS[c] != countT.get(c, 0):           # set default value to 0 to dont throw a error\n",
    "            return False\n",
    "    \n",
    "\n"
   ]
  },
  {
   "cell_type": "code",
   "execution_count": 15,
   "metadata": {},
   "outputs": [
    {
     "data": {
      "text/plain": [
       "True"
      ]
     },
     "execution_count": 15,
     "metadata": {},
     "output_type": "execute_result"
    }
   ],
   "source": [
    "s = \"racecar\"   # s = {'r': 2, 'a':2 ... }\n",
    "t = \"carrace\"   # t = {'r': 2, 'a':2 ... }\n",
    "isAnagram(s,t)"
   ]
  },
  {
   "cell_type": "code",
   "execution_count": 16,
   "metadata": {},
   "outputs": [
    {
     "data": {
      "text/plain": [
       "1"
      ]
     },
     "execution_count": 16,
     "metadata": {},
     "output_type": "execute_result"
    }
   ],
   "source": [
    "s = {'r': 2, 'a': 2, 'c': 2, 'e': 1}\n",
    "\n",
    "t = {'c': 2, 'a': 2, 'r': 2, 'e': 1}\n",
    "\n",
    "s['e']"
   ]
  },
  {
   "cell_type": "markdown",
   "metadata": {},
   "source": [
    "## LC1: twoSum"
   ]
  },
  {
   "cell_type": "markdown",
   "metadata": {},
   "source": [
    "Given an array of integers nums and an integer target, return indices of the two numbers such that they add up to target.\n",
    "\n",
    "You may assume that each input would have exactly one solution, and you may not use the same element twice.\n",
    "\n",
    "You can return the answer in any order.\n",
    "\n",
    " \n",
    "\n",
    "Example 1:\n",
    "\n",
    "Input: nums = [2,7,11,15], target = 9\n",
    "Output: [0,1]\n",
    "Explanation: Because nums[0] + nums[1] == 9, we return [0, 1].\n",
    "Example 2:\n",
    "\n",
    "Input: nums = [3,2,4], target = 6\n",
    "Output: [1,2]\n",
    "Example 3:\n",
    "\n",
    "Input: nums = [3,3], target = 6\n",
    "Output: [0,1]\n"
   ]
  },
  {
   "cell_type": "code",
   "execution_count": 17,
   "metadata": {},
   "outputs": [],
   "source": [
    "nums = [2,5,5,11]\n",
    "target = 10"
   ]
  },
  {
   "cell_type": "code",
   "execution_count": 18,
   "metadata": {},
   "outputs": [
    {
     "name": "stdout",
     "output_type": "stream",
     "text": [
      "1\n",
      "2\n",
      "3\n",
      "2\n"
     ]
    },
    {
     "data": {
      "text/plain": [
       "[1, 2]"
      ]
     },
     "execution_count": 18,
     "metadata": {},
     "output_type": "execute_result"
    }
   ],
   "source": [
    "def twoSum(nums: list[int], target:int) -> list[int]:\n",
    "    for i in range(len(nums)):\n",
    "        # print(range(i, len(nums)))\n",
    "        for j in range(i + 1, len(nums)):\n",
    "            print(j)\n",
    "            if nums[i] + nums[j] == target:\n",
    "                return [i, j]\n",
    "\n",
    "\n",
    "\n",
    "twoSum(nums, target)"
   ]
  },
  {
   "cell_type": "code",
   "execution_count": 19,
   "metadata": {},
   "outputs": [],
   "source": [
    "def twoSumHM(nums: list[int], target: int) -> list[int]:\n",
    "    hm = {}\n",
    "    for i ,n in enumerate(nums):\n",
    "        if target - n  in hm:\n",
    "            return [hm[target-n], i]\n",
    "        hm[n] = i"
   ]
  },
  {
   "cell_type": "code",
   "execution_count": 20,
   "metadata": {},
   "outputs": [
    {
     "data": {
      "text/plain": [
       "[1, 2]"
      ]
     },
     "execution_count": 20,
     "metadata": {},
     "output_type": "execute_result"
    }
   ],
   "source": [
    "twoSumHM(nums, target)"
   ]
  },
  {
   "cell_type": "code",
   "execution_count": 21,
   "metadata": {},
   "outputs": [],
   "source": [
    "nums = [2,5,5,11]"
   ]
  },
  {
   "cell_type": "code",
   "execution_count": 22,
   "metadata": {},
   "outputs": [
    {
     "name": "stdout",
     "output_type": "stream",
     "text": [
      "index 0 : value:  2\n",
      "index 1 : value:  5\n",
      "index 2 : value:  5\n",
      "index 3 : value:  11\n"
     ]
    },
    {
     "data": {
      "text/plain": [
       "[None, None, None, None]"
      ]
     },
     "execution_count": 22,
     "metadata": {},
     "output_type": "execute_result"
    }
   ],
   "source": [
    "[print('index',a,': value: ', b) for a, b in enumerate(nums)]"
   ]
  },
  {
   "cell_type": "markdown",
   "metadata": {},
   "source": [
    "## LC:49 Group Anagrams"
   ]
  },
  {
   "cell_type": "markdown",
   "metadata": {},
   "source": [
    "Given an array of strings strs, group the \n",
    "anagrams\n",
    " together. You can return the answer in any order.\n",
    "\n",
    " \n",
    "\n",
    "Example 1:\n",
    "\n",
    "Input: strs = [\"eat\",\"tea\",\"tan\",\"ate\",\"nat\",\"bat\"]\n",
    "\n",
    "Output: [[\"bat\"],[\"nat\",\"tan\"],[\"ate\",\"eat\",\"tea\"]]\n",
    "\n",
    "Explanation:\n",
    "\n",
    "There is no string in strs that can be rearranged to form \"bat\".\n",
    "The strings \"nat\" and \"tan\" are anagrams as they can be rearranged to form each other.\n",
    "The strings \"ate\", \"eat\", and \"tea\" are anagrams as they can be rearranged to form each other.\n",
    "Example 2:\n",
    "\n",
    "Input: strs = [\"\"]\n",
    "\n",
    "Output: [[\"\"]]\n",
    "\n",
    "Example 3:\n",
    "\n",
    "Input: strs = [\"a\"]\n",
    "\n",
    "Output: [[\"a\"]]\n",
    "\n"
   ]
  },
  {
   "cell_type": "code",
   "execution_count": 24,
   "metadata": {},
   "outputs": [],
   "source": [
    "def isAnagram(s: str, t: str) -> bool:\n",
    "    return sorted(s) == sorted(t) \n",
    "\n",
    "def groupAnagrams(strs: list[str])-> list[list[str]]:\n",
    "    out = []\n",
    "    chs = set()\n",
    "    hm = {}\n",
    "    for i in range(len(strs)):\n",
    "        if set(sorted(strs[i])) not in hm:\n",
    "                hm[sorted(strs[i])] += strs[i]\n",
    "        for j in range(i+1, len(strs)):\n",
    "            # print(i, j)\n",
    "            # print(strs[i], strs[j])\n",
    "            # print(isAnagram(strs[i], strs[j]))\n",
    "            if isAnagram(strs[i], strs[j]):\n",
    "                print('set of chars: ',set(strs[i]))\n",
    "                print('elems: ',[strs[i], strs[j]])\n",
    "                if set(strs[i]) not in dict:\n",
    "                    dict[set(strs[i])] = (strs[i], strs[j])\n",
    "                out.append([strs[i], strs[j]])\n",
    "    print('chs: ', chs)\n",
    "    print('out: ', out)\n",
    "    \n",
    "\n",
    "strs = [\"eat\",\"tea\",\"tan\",\"ate\",\"nat\",\"bat\"]\n",
    "out = [[\"bat\"],[\"nat\",\"tan\"],[\"ate\",\"eat\",\"tea\"]]\n",
    "#groupAnagrams(strs)\n"
   ]
  },
  {
   "cell_type": "code",
   "execution_count": 25,
   "metadata": {},
   "outputs": [
    {
     "data": {
      "text/plain": [
       "\"['a', 'e', 't']\""
      ]
     },
     "execution_count": 25,
     "metadata": {},
     "output_type": "execute_result"
    }
   ],
   "source": [
    "str(sorted('eat'))"
   ]
  },
  {
   "cell_type": "code",
   "execution_count": 26,
   "metadata": {},
   "outputs": [
    {
     "data": {
      "text/plain": [
       "dict_keys([\"['a', 'e', 't']\"])"
      ]
     },
     "execution_count": 26,
     "metadata": {},
     "output_type": "execute_result"
    }
   ],
   "source": [
    "hm = {}\n",
    "hm[str(sorted({'a', 'e', 't'}))] = 'ate'\n",
    "hm.keys()"
   ]
  },
  {
   "cell_type": "code",
   "execution_count": 27,
   "metadata": {},
   "outputs": [
    {
     "ename": "SyntaxError",
     "evalue": "cannot assign to function call (2087458224.py, line 11)",
     "output_type": "error",
     "traceback": [
      "\u001b[0;36m  Cell \u001b[0;32mIn[27], line 11\u001b[0;36m\u001b[0m\n\u001b[0;31m    hm.get(str(sorted(strs[i])), 0) = []\u001b[0m\n\u001b[0m    ^\u001b[0m\n\u001b[0;31mSyntaxError\u001b[0m\u001b[0;31m:\u001b[0m cannot assign to function call\n"
     ]
    }
   ],
   "source": [
    "def groupAnagrams(strs: list[str])-> list[list[str]]:\n",
    "    out = []\n",
    "    chs = set()\n",
    "    hm = {}\n",
    "    for i in range(len(strs)):\n",
    "        if str(sorted(strs[i])) not in hm.keys():\n",
    "                # hm[str(sorted(strs[i]))] = strs[i]\n",
    "                hm[str(sorted(strs[i]))] = []\n",
    "                print(hm)\n",
    "        if str(sorted(strs[i])) in hm.keys():\n",
    "            hm.get(str(sorted(strs[i])), 0) = []\n",
    "\n",
    "strs = [\"eat\",\"tea\",\"tan\",\"ate\",\"nat\",\"bat\"]\n",
    "out = [[\"bat\"],[\"nat\",\"tan\"],[\"ate\",\"eat\",\"tea\"]]\n",
    "groupAnagrams(strs)"
   ]
  },
  {
   "cell_type": "code",
   "execution_count": 28,
   "metadata": {},
   "outputs": [
    {
     "data": {
      "text/plain": [
       "{\"['a', 'e', 't']\": ['eat', 'tae', 'tea']}"
      ]
     },
     "execution_count": 28,
     "metadata": {},
     "output_type": "execute_result"
    }
   ],
   "source": [
    "a = {\"['a', 'e', 't']\": ['eat', 'tae','tea']}\n",
    "a"
   ]
  },
  {
   "cell_type": "code",
   "execution_count": 12,
   "metadata": {},
   "outputs": [
    {
     "name": "stdout",
     "output_type": "stream",
     "text": [
      "#-------------------------------#\n",
      "word:  eat\n",
      "count:  [1, 0, 0, 0, 1, 0, 0, 0, 0, 0, 0, 0, 0, 0, 0, 0, 0, 0, 0, 1, 0, 0, 0, 0, 0, 0]\n",
      "tuple of count:  (1, 0, 0, 0, 1, 0, 0, 0, 0, 0, 0, 0, 0, 0, 0, 0, 0, 0, 0, 1, 0, 0, 0, 0, 0, 0)\n",
      "dict_keys([(1, 0, 0, 0, 1, 0, 0, 0, 0, 0, 0, 0, 0, 0, 0, 0, 0, 0, 0, 1, 0, 0, 0, 0, 0, 0)]) dict_values([['eat']])\n",
      "#-------------------------------#\n",
      "#-------------------------------#\n",
      "word:  tea\n",
      "count:  [1, 0, 0, 0, 1, 0, 0, 0, 0, 0, 0, 0, 0, 0, 0, 0, 0, 0, 0, 1, 0, 0, 0, 0, 0, 0]\n",
      "tuple of count:  (1, 0, 0, 0, 1, 0, 0, 0, 0, 0, 0, 0, 0, 0, 0, 0, 0, 0, 0, 1, 0, 0, 0, 0, 0, 0)\n",
      "dict_keys([(1, 0, 0, 0, 1, 0, 0, 0, 0, 0, 0, 0, 0, 0, 0, 0, 0, 0, 0, 1, 0, 0, 0, 0, 0, 0)]) dict_values([['eat', 'tea']])\n",
      "#-------------------------------#\n",
      "#-------------------------------#\n",
      "word:  tan\n",
      "count:  [1, 0, 0, 0, 0, 0, 0, 0, 0, 0, 0, 0, 0, 1, 0, 0, 0, 0, 0, 1, 0, 0, 0, 0, 0, 0]\n",
      "tuple of count:  (1, 0, 0, 0, 0, 0, 0, 0, 0, 0, 0, 0, 0, 1, 0, 0, 0, 0, 0, 1, 0, 0, 0, 0, 0, 0)\n",
      "dict_keys([(1, 0, 0, 0, 1, 0, 0, 0, 0, 0, 0, 0, 0, 0, 0, 0, 0, 0, 0, 1, 0, 0, 0, 0, 0, 0), (1, 0, 0, 0, 0, 0, 0, 0, 0, 0, 0, 0, 0, 1, 0, 0, 0, 0, 0, 1, 0, 0, 0, 0, 0, 0)]) dict_values([['eat', 'tea'], ['tan']])\n",
      "#-------------------------------#\n",
      "#-------------------------------#\n",
      "word:  ate\n",
      "count:  [1, 0, 0, 0, 1, 0, 0, 0, 0, 0, 0, 0, 0, 0, 0, 0, 0, 0, 0, 1, 0, 0, 0, 0, 0, 0]\n",
      "tuple of count:  (1, 0, 0, 0, 1, 0, 0, 0, 0, 0, 0, 0, 0, 0, 0, 0, 0, 0, 0, 1, 0, 0, 0, 0, 0, 0)\n",
      "dict_keys([(1, 0, 0, 0, 1, 0, 0, 0, 0, 0, 0, 0, 0, 0, 0, 0, 0, 0, 0, 1, 0, 0, 0, 0, 0, 0), (1, 0, 0, 0, 0, 0, 0, 0, 0, 0, 0, 0, 0, 1, 0, 0, 0, 0, 0, 1, 0, 0, 0, 0, 0, 0)]) dict_values([['eat', 'tea', 'ate'], ['tan']])\n",
      "#-------------------------------#\n",
      "#-------------------------------#\n",
      "word:  nat\n",
      "count:  [1, 0, 0, 0, 0, 0, 0, 0, 0, 0, 0, 0, 0, 1, 0, 0, 0, 0, 0, 1, 0, 0, 0, 0, 0, 0]\n",
      "tuple of count:  (1, 0, 0, 0, 0, 0, 0, 0, 0, 0, 0, 0, 0, 1, 0, 0, 0, 0, 0, 1, 0, 0, 0, 0, 0, 0)\n",
      "dict_keys([(1, 0, 0, 0, 1, 0, 0, 0, 0, 0, 0, 0, 0, 0, 0, 0, 0, 0, 0, 1, 0, 0, 0, 0, 0, 0), (1, 0, 0, 0, 0, 0, 0, 0, 0, 0, 0, 0, 0, 1, 0, 0, 0, 0, 0, 1, 0, 0, 0, 0, 0, 0)]) dict_values([['eat', 'tea', 'ate'], ['tan', 'nat']])\n",
      "#-------------------------------#\n",
      "#-------------------------------#\n",
      "word:  bat\n",
      "count:  [1, 1, 0, 0, 0, 0, 0, 0, 0, 0, 0, 0, 0, 0, 0, 0, 0, 0, 0, 1, 0, 0, 0, 0, 0, 0]\n",
      "tuple of count:  (1, 1, 0, 0, 0, 0, 0, 0, 0, 0, 0, 0, 0, 0, 0, 0, 0, 0, 0, 1, 0, 0, 0, 0, 0, 0)\n",
      "dict_keys([(1, 0, 0, 0, 1, 0, 0, 0, 0, 0, 0, 0, 0, 0, 0, 0, 0, 0, 0, 1, 0, 0, 0, 0, 0, 0), (1, 0, 0, 0, 0, 0, 0, 0, 0, 0, 0, 0, 0, 1, 0, 0, 0, 0, 0, 1, 0, 0, 0, 0, 0, 0), (1, 1, 0, 0, 0, 0, 0, 0, 0, 0, 0, 0, 0, 0, 0, 0, 0, 0, 0, 1, 0, 0, 0, 0, 0, 0)]) dict_values([['eat', 'tea', 'ate'], ['tan', 'nat'], ['bat']])\n",
      "#-------------------------------#\n",
      "[['eat', 'tea', 'ate'], ['tan', 'nat'], ['bat']]\n",
      "<class 'list'>\n",
      "defaultdict(<class 'list'>, {(1, 0, 0, 0, 1, 0, 0, 0, 0, 0, 0, 0, 0, 0, 0, 0, 0, 0, 0, 1, 0, 0, 0, 0, 0, 0): ['eat', 'tea', 'ate'], (1, 0, 0, 0, 0, 0, 0, 0, 0, 0, 0, 0, 0, 1, 0, 0, 0, 0, 0, 1, 0, 0, 0, 0, 0, 0): ['tan', 'nat'], (1, 1, 0, 0, 0, 0, 0, 0, 0, 0, 0, 0, 0, 0, 0, 0, 0, 0, 0, 1, 0, 0, 0, 0, 0, 0): ['bat']})\n",
      "<class 'collections.defaultdict'>\n",
      "<class 'dict_values'>\n",
      "<class 'dict_keys'>\n"
     ]
    },
    {
     "data": {
      "text/plain": [
       "dict_values([['eat', 'tea', 'ate'], ['tan', 'nat'], ['bat']])"
      ]
     },
     "execution_count": 12,
     "metadata": {},
     "output_type": "execute_result"
    }
   ],
   "source": [
    "from collections import defaultdict\n",
    "\n",
    "def groupAnagrams(strs: list[str])-> list[list[str]]:\n",
    "    res = defaultdict(list)\n",
    "    \n",
    "    for word in strs:\n",
    "        print('#-------------------------------#')\n",
    "        print('word: ',word)\n",
    "        count = [0] * 26 # a to z\n",
    "        # print(count)\n",
    "        for c in word:\n",
    "            # print('char: ', c)\n",
    "            # print('index of ',c, ': ' ,ord(c)- ord('a'))\n",
    "            count[ord(c)- ord('a')] += 1    # mark the location of character in the alphabeth table\n",
    "        print('count: ', count)\n",
    "        print('tuple of count: ', tuple(count))\n",
    "        res[tuple(count)].append(word)\n",
    "        print(res.keys() ,res.values())\n",
    "        print('#-------------------------------#')\n",
    "    # print(count)\n",
    "    out = [x for x in res.values()]\n",
    "    print(out)\n",
    "    print(type(out))\n",
    "    print(res)\n",
    "    print(type(res))\n",
    "    print(type(res.values()))\n",
    "    print(type(res.keys()))\n",
    "    return res.values()\n",
    "\n",
    "\n",
    "\n",
    "\n",
    "\n",
    "strs = [\"eat\",\"tea\",\"tan\",\"ate\",\"nat\",\"bat\"]\n",
    "out = [[\"bat\"],[\"nat\",\"tan\"],[\"ate\",\"eat\",\"tea\"]]\n",
    "groupAnagrams(strs)"
   ]
  },
  {
   "cell_type": "code",
   "execution_count": 30,
   "metadata": {},
   "outputs": [],
   "source": [
    "strs = [\"eat\",\"tea\",\"tan\",\"ate\",\"nat\",\"bat\"]\n",
    "out = [[\"bat\"],[\"nat\",\"tan\"],[\"ate\",\"eat\",\"tea\"]]"
   ]
  },
  {
   "cell_type": "code",
   "execution_count": 31,
   "metadata": {},
   "outputs": [
    {
     "name": "stdout",
     "output_type": "stream",
     "text": [
      "sorted:  ['a', 'e', 't']\n",
      "keys:  aet\n",
      "value:  eat\n",
      "key not found in dict:  {'aet': ['eat']}\n",
      "#----------\n",
      "sorted:  ['a', 'e', 't']\n",
      "keys:  aet\n",
      "value:  tea\n",
      "key found in dict going to extend list:  {'aet': ['eat', 'tea']}\n",
      "#----------\n",
      "sorted:  ['a', 'n', 't']\n",
      "keys:  ant\n",
      "value:  tan\n",
      "key not found in dict:  {'aet': ['eat', 'tea'], 'ant': ['tan']}\n",
      "#----------\n",
      "sorted:  ['a', 'e', 't']\n",
      "keys:  aet\n",
      "value:  ate\n",
      "key found in dict going to extend list:  {'aet': ['eat', 'tea', 'ate'], 'ant': ['tan']}\n",
      "#----------\n",
      "sorted:  ['a', 'n', 't']\n",
      "keys:  ant\n",
      "value:  nat\n",
      "key found in dict going to extend list:  {'aet': ['eat', 'tea', 'ate'], 'ant': ['tan', 'nat']}\n",
      "#----------\n",
      "sorted:  ['a', 'b', 't']\n",
      "keys:  abt\n",
      "value:  bat\n",
      "key not found in dict:  {'aet': ['eat', 'tea', 'ate'], 'ant': ['tan', 'nat'], 'abt': ['bat']}\n",
      "#----------\n"
     ]
    },
    {
     "data": {
      "text/plain": [
       "[['eat', 'tea', 'ate'], ['tan', 'nat'], ['bat']]"
      ]
     },
     "execution_count": 31,
     "metadata": {},
     "output_type": "execute_result"
    }
   ],
   "source": [
    "def groupAnagrams(strs: list[str])-> list[list[str]]:\n",
    "    out = []\n",
    "    dict = {}\n",
    "    \n",
    "    for str in strs:\n",
    "        x = sorted(str)\n",
    "        key = ''.join(x)\n",
    "        print('sorted: ', x)\n",
    "        print('keys: ', key)\n",
    "        print('value: ', str)\n",
    "        # print('#----------')\n",
    "        if key in dict:\n",
    "            dict[key].extend([str])\n",
    "            print('key found in dict going to extend list: ',dict)\n",
    "        else:\n",
    "            dict[key] = [str]\n",
    "            print('key not found in dict: ',dict)\n",
    "        print('#----------')\n",
    "\n",
    "    for key in dict.keys():\n",
    "        out.append(dict[key])\n",
    "        \n",
    "        \n",
    "    return out\n",
    "\n",
    "\n",
    "\n",
    "\n",
    "strs = [\"eat\",\"tea\",\"tan\",\"ate\",\"nat\",\"bat\"]\n",
    "out = [[\"bat\"],[\"nat\",\"tan\"],[\"ate\",\"eat\",\"tea\"]]\n",
    "\n",
    "groupAnagrams(strs)"
   ]
  },
  {
   "cell_type": "markdown",
   "metadata": {},
   "source": [
    "## LC:347 Top K Frequent Elements"
   ]
  },
  {
   "cell_type": "markdown",
   "metadata": {},
   "source": [
    "Given an integer array nums and an integer k, return the k most frequent elements. You may return the answer in any order.\n",
    "\n",
    " \n",
    "\n",
    "Example 1:\n",
    "\n",
    "Input: nums = [1,1,1,2,2,3], k = 2\n",
    "Output: [1,2]\n",
    "Example 2:\n",
    "\n",
    "Input: nums = [1], k = 1\n",
    "Output: [1]\n",
    " \n",
    "\n",
    "Constraints:\n",
    "\n",
    "1 <= nums.length <= 105\n",
    "-104 <= nums[i] <= 104\n",
    "k is in the range [1, the number of unique elements in the array].\n",
    "It is guaranteed that the answer is unique.\n",
    " \n",
    "\n",
    "Follow up: Your algorithm's time complexity must be better than O(n log n), where n is the array's size."
   ]
  },
  {
   "cell_type": "code",
   "execution_count": 32,
   "metadata": {},
   "outputs": [],
   "source": [
    "nums = [1,1,1,2,2,3,4,4,4,4,5,6,7,7,7,7,7]\n",
    "k = 2"
   ]
  },
  {
   "cell_type": "code",
   "execution_count": 33,
   "metadata": {},
   "outputs": [
    {
     "name": "stdout",
     "output_type": "stream",
     "text": [
      "[7, 4]\n",
      "{1, 2, 3, 4, 5, 6, 7}\n",
      "[5, 4]\n",
      "{7: 5, 4: 4, 1: 3, 2: 2, 3: 1, 5: 1, 6: 1}\n",
      "[7, 4]\n"
     ]
    },
    {
     "data": {
      "text/plain": [
       "[5, 4]"
      ]
     },
     "execution_count": 33,
     "metadata": {},
     "output_type": "execute_result"
    }
   ],
   "source": [
    "def topKFrequent(nums: list[int], k:int):\n",
    "    hm = {}\n",
    "    for i in range(len(nums)):\n",
    "        if nums[i] not in hm:\n",
    "            hm[nums[i]] = 1\n",
    "        else:\n",
    "            hm[nums[i]] += 1\n",
    "    \n",
    "    # sort the dict by values\n",
    "    sortedHM= {k: v for k, v in sorted(hm.items(), key= lambda item: item[1], reverse=True)}\n",
    "    justout = list({k:v for k,v in sorted(hm.items(), key=lambda item:item[1], reverse=True)}.values())[:k]\n",
    "    testout = {v for v in sorted(hm.keys(), key=None, reverse=True)}\n",
    "    sout = list({k:v for k,v in sorted(hm.items(), key=lambda item: item[1], reverse=True)})[:k]\n",
    "    print(sout)\n",
    "    print(testout)\n",
    "    print(justout)\n",
    "    print(sortedHM)\n",
    "    print(list(sortedHM.keys())[:k])\n",
    "    \n",
    "    out = list(sortedHM.keys())[:k]\n",
    "    \n",
    "    return justout\n",
    "\n",
    "topKFrequent(nums, k)"
   ]
  },
  {
   "cell_type": "code",
   "execution_count": 34,
   "metadata": {},
   "outputs": [
    {
     "name": "stdout",
     "output_type": "stream",
     "text": [
      "[[], [3, 5, 6], [2], [1], [4], [7], [], [], [], [], [], [], [], [], [], [], [], []]\n",
      "17\n",
      "16\n",
      "15\n",
      "14\n",
      "13\n",
      "12\n",
      "11\n",
      "10\n",
      "9\n",
      "8\n",
      "7\n",
      "6\n",
      "5\n",
      "4\n",
      "4 2\n"
     ]
    },
    {
     "data": {
      "text/plain": [
       "[7, 4]"
      ]
     },
     "execution_count": 34,
     "metadata": {},
     "output_type": "execute_result"
    }
   ],
   "source": [
    "k = 2\n",
    "def topKFrequent(nums: list[int], k:int):\n",
    "    hm = {}\n",
    "    freq = [[] for _ in range(len(nums)+1)]\n",
    "    for num in nums:\n",
    "        hm[num] = 1+ hm.get(num, 0)\n",
    "    for n, c in hm.items():\n",
    "        freq[c].append(n)\n",
    "    print(freq)\n",
    "    \n",
    "    out = []\n",
    "    for i in range(len(freq)-1, 0, -1):\n",
    "        print(i)\n",
    "        for n in freq[i]:\n",
    "            out.append(n)\n",
    "            if len(out) == k:\n",
    "                print(i, k)\n",
    "                return out\n",
    "\n",
    "topKFrequent(nums, k)"
   ]
  },
  {
   "cell_type": "markdown",
   "metadata": {},
   "source": [
    "## LC: 271 Encode and Decode Strings"
   ]
  },
  {
   "cell_type": "markdown",
   "metadata": {},
   "source": [
    "Design an algorithm to encode a list of strings to a single string. The encoded string is then decoded back to the original list of strings.\n",
    "\n",
    "Please implement encode and decode\n",
    "\n",
    "Example 1:\n",
    "\n",
    "Input: [\"neet\",\"code\",\"love\",\"you\"]\n",
    "\n",
    "Output:[\"neet\",\"code\",\"love\",\"you\"]\n",
    "Example 2:\n",
    "\n",
    "Input: [\"we\",\"say\",\":\",\"yes\"]\n",
    "\n",
    "Output: [\"we\",\"say\",\":\",\"yes\"]\n",
    "Constraints:\n",
    "\n",
    "0 <= strs.length < 100\n",
    "0 <= strs[i].length < 200\n",
    "strs[i] contains only UTF-8 characters."
   ]
  },
  {
   "cell_type": "code",
   "execution_count": 35,
   "metadata": {},
   "outputs": [],
   "source": [
    "i1 = [\"neet\",\"code\",\"love\",\"you\"]\n",
    "\n",
    "i2 = [\"we\",\"say\",\":\",\"yes\"]"
   ]
  },
  {
   "cell_type": "code",
   "execution_count": 36,
   "metadata": {},
   "outputs": [
    {
     "name": "stdout",
     "output_type": "stream",
     "text": [
      "a/b/c/d🎉/🎉////🎉#>£>£#🎉QWEQR31🎉\n",
      "['a/b/c/d', '/', '////', '#>£>£#', 'QWEQR31']\n"
     ]
    }
   ],
   "source": [
    "def encode(strs: list[str]) -> str:\n",
    "    if len(strs)>=1:\n",
    "        out = ''\n",
    "        for str in strs:\n",
    "            out += str + '🎉'\n",
    "        return out\n",
    "    return ''\n",
    "\n",
    "\n",
    "def decode(s: str) -> list[str]:\n",
    "    if s != '':\n",
    "        words = s.rstrip('🎉').split('🎉')\n",
    "        return words\n",
    "    return []\n",
    "\n",
    "fail = ['a/b/c/d','/','////','#>£>£#','QWEQR31']\n",
    "print(encode(fail))\n",
    "print(decode(encode(fail)))\n",
    "\n"
   ]
  },
  {
   "cell_type": "code",
   "execution_count": 37,
   "metadata": {},
   "outputs": [
    {
     "data": {
      "text/plain": [
       "(['neet', 'code', 'love', 'you'], ['we', 'say', ':', 'yes'])"
      ]
     },
     "execution_count": 37,
     "metadata": {},
     "output_type": "execute_result"
    }
   ],
   "source": [
    "i1, i2"
   ]
  },
  {
   "cell_type": "code",
   "execution_count": 60,
   "metadata": {},
   "outputs": [
    {
     "data": {
      "text/plain": [
       "'t'"
      ]
     },
     "execution_count": 60,
     "metadata": {},
     "output_type": "execute_result"
    }
   ],
   "source": [
    "tst = '4$neet4$code4$love3$you'\n",
    "out = tst[5:5+1]\n",
    "out"
   ]
  },
  {
   "cell_type": "markdown",
   "metadata": {},
   "source": [
    "> This is an alternative way"
   ]
  },
  {
   "cell_type": "code",
   "execution_count": 87,
   "metadata": {},
   "outputs": [
    {
     "name": "stdout",
     "output_type": "stream",
     "text": [
      "2$we3$say1$:3$yes10$!@#$%^&*()\n"
     ]
    }
   ],
   "source": [
    "def encode(strs: list[str]) -> str:\n",
    "    if len(strs)>=1:\n",
    "        # --> 4#neet4#code4#love4#you\n",
    "        out = ''\n",
    "        for idx in strs:\n",
    "            out += str(len(idx)) + '$' + idx\n",
    "        return out\n",
    "    return ''\n",
    "\n",
    "\n",
    "def decode(s: str) -> list[str]:\n",
    "    if s != '':\n",
    "        out = []\n",
    "        cix = 0\n",
    "        for i in range(len(s)):\n",
    "            if s[i] == '$': # find the size delimeter\n",
    "                # find the size of str\n",
    "                print('cix: ', cix)\n",
    "                print('i: ',i)\n",
    "                sz = int(s[cix:i])\n",
    "                print('len of str: ',sz)\n",
    "                out.append(s[i+1:i+1+sz])\n",
    "                cix = i+1+sz\n",
    "                print('#--------------')\n",
    "            # print('cix:', cix)\n",
    "        return out\n",
    "    return []\n",
    "\n",
    "fail = [\"we\",\"say\",\":\",\"yes\",\"!@#$%^&*()\"]\n",
    "\n",
    "print(encode(fail))\n",
    "# print(decode(encode(fail)))\n",
    "\n"
   ]
  },
  {
   "cell_type": "code",
   "execution_count": 93,
   "metadata": {},
   "outputs": [
    {
     "name": "stdout",
     "output_type": "stream",
     "text": [
      "2$we3$say1$:3$yes10$!@#$%^&*()\n",
      "['we', 'say', ':', 'yes', '!@#$%^&*()']\n"
     ]
    }
   ],
   "source": [
    "def encode(strs: list[str]) -> str:\n",
    "    if len(strs)>=1:\n",
    "        # --> 4#neet4#code4#love4#you\n",
    "        out = ''\n",
    "        for idx in strs:\n",
    "            out += str(len(idx)) + '$' + idx\n",
    "        return out\n",
    "    return ''\n",
    "\n",
    "\n",
    "def decode(s: str) -> list[str]:\n",
    "    if s != '':\n",
    "        out = []\n",
    "        cix = 0\n",
    "        while cix < len(s):\n",
    "            j = cix\n",
    "            while s[j] != '$':\n",
    "                j+= 1\n",
    "            length = int(s[cix:j])\n",
    "            out.append(s[j + 1 : j + 1 + length])\n",
    "            cix = j + 1 + length\n",
    "        return out\n",
    "    return []\n",
    "\n",
    "fail = [\"we\",\"say\",\":\",\"yes\",\"!@#$%^&*()\"]\n",
    "\n",
    "print(encode(fail))\n",
    "print(decode(encode(fail)))\n",
    "\n"
   ]
  },
  {
   "cell_type": "markdown",
   "metadata": {},
   "source": [
    "## LC238: Product of Array Except Self"
   ]
  },
  {
   "cell_type": "markdown",
   "metadata": {},
   "source": [
    "Given an integer array nums, return an array answer such that answer[i] is equal to the product of all the elements of nums except nums[i].\n",
    "\n",
    "The product of any prefix or suffix of nums is guaranteed to fit in a 32-bit integer.\n",
    "\n",
    "You must write an algorithm that runs in O(n) time and without using the division operation.\n",
    "\n",
    " \n",
    "\n",
    "Example 1:\n",
    "\n",
    "Input: nums = [1,2,3,4]\n",
    "Output: [24,12,8,6]\n",
    "\n",
    "\n",
    "Example 2:\n",
    "\n",
    "Input: nums = [-1,1,0,-3,3]\n",
    "Output: [0,0,9,0,0]\n",
    " \n",
    "\n",
    "Constraints:\n",
    "\n",
    "2 <= nums.length <= 105\n",
    "\n",
    "\n",
    "-30 <= nums[i] <= 30\n",
    "\n",
    "\n",
    "The product of any prefix or suffix of nums is guaranteed to fit in a 32-bit integer.\n",
    "\n",
    "\n",
    " \n",
    "\n",
    "Follow up: Can you solve the problem in O(1) extra space complexity? (The output array does not count as extra space for space complexity analysis.)"
   ]
  },
  {
   "cell_type": "code",
   "execution_count": 3,
   "metadata": {},
   "outputs": [],
   "source": [
    "t1 = [1,2,3,4]\n",
    "t2 = [-1,1,0,-3,3]"
   ]
  },
  {
   "cell_type": "markdown",
   "metadata": {},
   "source": [
    "### brute-force solution"
   ]
  },
  {
   "cell_type": "code",
   "execution_count": null,
   "metadata": {},
   "outputs": [],
   "source": [
    "def productExceptSelf(nums: list[int]) -> list[int]:\n",
    "        out = []\n",
    "        for i in range(len(nums)):\n",
    "            res = 1\n",
    "            for j in range(len(nums)):\n",
    "                if j == i:\n",
    "                    continue\n",
    "                res *= nums[j]\n",
    "            out.append(res)\n",
    "        return out"
   ]
  },
  {
   "cell_type": "markdown",
   "metadata": {},
   "source": [
    "works on O(N**2) complexity which is a pretty bad for performance"
   ]
  },
  {
   "cell_type": "code",
   "execution_count": 4,
   "metadata": {},
   "outputs": [
    {
     "data": {
      "text/plain": [
       "[24, 12, 8, 6]"
      ]
     },
     "execution_count": 4,
     "metadata": {},
     "output_type": "execute_result"
    }
   ],
   "source": [
    "productExceptSelf(t1)"
   ]
  },
  {
   "cell_type": "markdown",
   "metadata": {},
   "source": [
    "### using prefix and postfix then update it to version only store values on output array"
   ]
  },
  {
   "cell_type": "code",
   "execution_count": 35,
   "metadata": {},
   "outputs": [],
   "source": [
    "def productExceptSelf(nums: list[int]) -> list[int]:\n",
    "        n = len(nums)\n",
    "        out = [1] * n\n",
    "        # prefix = [1] * n \n",
    "        # postfix = [1] * n\n",
    "        post_counter = 1\n",
    "        for i in range(1, n):   # pass the first element because it's guaranteed that there is no prefix for first element\n",
    "            out[i] = out[i-1] * nums[i-1]   # results [1, 1, 2, 6]\n",
    "        for i in range(n-2, -1, -1):    # i goes 2 1 0 \n",
    "            # print(i)\n",
    "            # out[i] = prefix for current element this element\n",
    "            post_counter = post_counter * nums[i+1] # inner iteration results = [1, 4, 12, 24] \n",
    "            out[i] = out[i] * post_counter\n",
    "        \n",
    "        # for i in range(n):\n",
    "        #     out[i] = prefix[i] * postfix[i]\n",
    "        \n",
    "        # print(\"prefix: \", prefix)\n",
    "        # print(\"prefix: \", postfix)\n",
    "        return out    "
   ]
  },
  {
   "cell_type": "code",
   "execution_count": 37,
   "metadata": {},
   "outputs": [
    {
     "name": "stdout",
     "output_type": "stream",
     "text": [
      "[24, 12, 8, 6]\n"
     ]
    }
   ],
   "source": [
    "print(productExceptSelf(t1))\n"
   ]
  },
  {
   "cell_type": "markdown",
   "metadata": {},
   "source": [
    "out = [24, 12, 8, 6]\n",
    "\n",
    "nums = [1, 2, 3, 4]"
   ]
  },
  {
   "cell_type": "code",
   "execution_count": 31,
   "metadata": {},
   "outputs": [
    {
     "data": {
      "text/plain": [
       "[1, 2, 3, 4]"
      ]
     },
     "execution_count": 31,
     "metadata": {},
     "output_type": "execute_result"
    }
   ],
   "source": [
    "t1"
   ]
  },
  {
   "cell_type": "markdown",
   "metadata": {},
   "source": [
    "this solution is more memory efficient "
   ]
  },
  {
   "cell_type": "code",
   "execution_count": 13,
   "metadata": {},
   "outputs": [],
   "source": [
    "def productExceptSelf(nums: list[int]) -> list[int]:\n",
    "        n = len(nums)\n",
    "        res = [1] * n\n",
    "        prefix = 1\n",
    "        for i in range(n):\n",
    "            res[i] = prefix\n",
    "            prefix *= nums[i]\n",
    "        postfix = 1\n",
    "        for i in range(n-1, -1, -1):\n",
    "            res[i] *= postfix\n",
    "            postfix *= nums[i]\n",
    "        return res\n",
    "        "
   ]
  },
  {
   "cell_type": "code",
   "execution_count": 14,
   "metadata": {},
   "outputs": [
    {
     "data": {
      "text/plain": [
       "[24, 12, 8, 6]"
      ]
     },
     "execution_count": 14,
     "metadata": {},
     "output_type": "execute_result"
    }
   ],
   "source": [
    "productExceptSelf(t1)"
   ]
  },
  {
   "cell_type": "markdown",
   "metadata": {},
   "source": [
    "## LC36: Valid Sudoku"
   ]
  },
  {
   "attachments": {
    "image.png": {
     "image/png": "[encoded data removed]"
    }
   },
   "cell_type": "markdown",
   "metadata": {},
   "source": [
    "Determine if a 9 x 9 Sudoku board is valid. Only the filled cells need to be validated according to the following rules:\n",
    "\n",
    "Each row must contain the digits 1-9 without repetition.\n",
    "Each column must contain the digits 1-9 without repetition.\n",
    "Each of the nine 3 x 3 sub-boxes of the grid must contain the digits 1-9 without repetition.\n",
    "Note:\n",
    "\n",
    "A Sudoku board (partially filled) could be valid but is not necessarily solvable.\n",
    "Only the filled cells need to be validated according to the mentioned rules.\n",
    " \n",
    "\n",
    "Example 1:\n",
    "\n",
    "\n",
    "![image.png](attachment:image.png)\n",
    "\n",
    "Input: board = \n",
    "\n",
    "[[\"5\",\"3\",\".\",\".\",\"7\",\".\",\".\",\".\",\".\"]\n",
    ",[\"6\",\".\",\".\",\"1\",\"9\",\"5\",\".\",\".\",\".\"]\n",
    ",[\".\",\"9\",\"8\",\".\",\".\",\".\",\".\",\"6\",\".\"]\n",
    ",[\"8\",\".\",\".\",\".\",\"6\",\".\",\".\",\".\",\"3\"]\n",
    ",[\"4\",\".\",\".\",\"8\",\".\",\"3\",\".\",\".\",\"1\"]\n",
    ",[\"7\",\".\",\".\",\".\",\"2\",\".\",\".\",\".\",\"6\"]\n",
    ",[\".\",\"6\",\".\",\".\",\".\",\".\",\"2\",\"8\",\".\"]\n",
    ",[\".\",\".\",\".\",\"4\",\"1\",\"9\",\".\",\".\",\"5\"]\n",
    ",[\".\",\".\",\".\",\".\",\"8\",\".\",\".\",\"7\",\"9\"]]\n",
    "\n",
    "\n",
    "Output: true\n",
    "\n",
    "\n",
    "Example 2:\n",
    "\n",
    "Input: board = \n",
    "\n",
    "[[\"8\",\"3\",\".\",\".\",\"7\",\".\",\".\",\".\",\".\"]\n",
    ",[\"6\",\".\",\".\",\"1\",\"9\",\"5\",\".\",\".\",\".\"]\n",
    ",[\".\",\"9\",\"8\",\".\",\".\",\".\",\".\",\"6\",\".\"]\n",
    ",[\"8\",\".\",\".\",\".\",\"6\",\".\",\".\",\".\",\"3\"]\n",
    ",[\"4\",\".\",\".\",\"8\",\".\",\"3\",\".\",\".\",\"1\"]\n",
    ",[\"7\",\".\",\".\",\".\",\"2\",\".\",\".\",\".\",\"6\"]\n",
    ",[\".\",\"6\",\".\",\".\",\".\",\".\",\"2\",\"8\",\".\"]\n",
    ",[\".\",\".\",\".\",\"4\",\"1\",\"9\",\".\",\".\",\"5\"]\n",
    ",[\".\",\".\",\".\",\".\",\"8\",\".\",\".\",\"7\",\"9\"]]\n",
    "\n",
    "\n",
    "Output: false\n",
    "Explanation: Same as Example 1, except with the 5 in the top left corner being modified to 8. Since there are two 8's in the top left 3x3 sub-box, it is invalid.\n",
    " \n",
    "\n",
    "Constraints:\n",
    "\n",
    "board.length == 9\n",
    "board[i].length == 9\n",
    "board[i][j] is a digit 1-9 or '.'."
   ]
  },
  {
   "cell_type": "code",
   "execution_count": 1,
   "metadata": {},
   "outputs": [],
   "source": [
    "board_T = [\n",
    " [\"5\",\"3\",\".\",\".\",\"7\",\".\",\".\",\".\",\".\"]\n",
    ",[\"6\",\".\",\".\",\"1\",\"9\",\"5\",\".\",\".\",\".\"]\n",
    ",[\".\",\"9\",\"8\",\".\",\".\",\".\",\".\",\"6\",\".\"]\n",
    ",[\"8\",\".\",\".\",\".\",\"6\",\".\",\".\",\".\",\"3\"]\n",
    ",[\"4\",\".\",\".\",\"8\",\".\",\"3\",\".\",\".\",\"1\"]\n",
    ",[\"7\",\".\",\".\",\".\",\"2\",\".\",\".\",\".\",\"6\"]\n",
    ",[\".\",\"6\",\".\",\".\",\".\",\".\",\"2\",\"8\",\".\"]\n",
    ",[\".\",\".\",\".\",\"4\",\"1\",\"9\",\".\",\".\",\"5\"]\n",
    ",[\".\",\".\",\".\",\".\",\"8\",\".\",\".\",\"7\",\"9\"]\n",
    "]\n",
    "\n",
    "board_F = [\n",
    " [\"8\",\"3\",\".\",\".\",\"7\",\".\",\".\",\".\",\".\"]\n",
    ",[\"6\",\".\",\".\",\"1\",\"9\",\"5\",\".\",\".\",\".\"]\n",
    ",[\".\",\"9\",\"8\",\".\",\".\",\".\",\".\",\"6\",\".\"]\n",
    ",[\"8\",\".\",\".\",\".\",\"6\",\".\",\".\",\".\",\"3\"]\n",
    ",[\"4\",\".\",\".\",\"8\",\".\",\"3\",\".\",\".\",\"1\"]\n",
    ",[\"7\",\".\",\".\",\".\",\"2\",\".\",\".\",\".\",\"6\"]\n",
    ",[\".\",\"6\",\".\",\".\",\".\",\".\",\"2\",\"8\",\".\"]\n",
    ",[\".\",\".\",\".\",\"4\",\"1\",\"9\",\".\",\".\",\"5\"]\n",
    ",[\".\",\".\",\".\",\".\",\"8\",\".\",\".\",\"7\",\"9\"]\n",
    "]"
   ]
  },
  {
   "cell_type": "code",
   "execution_count": 3,
   "metadata": {},
   "outputs": [
    {
     "data": {
      "text/plain": [
       "[['5', '3', '.', '.', '7', '.', '.', '.', '.'],\n",
       " ['6', '.', '.', '1', '9', '5', '.', '.', '.'],\n",
       " ['.', '9', '8', '.', '.', '.', '.', '6', '.'],\n",
       " ['8', '.', '.', '.', '6', '.', '.', '.', '3'],\n",
       " ['4', '.', '.', '8', '.', '3', '.', '.', '1'],\n",
       " ['7', '.', '.', '.', '2', '.', '.', '.', '6'],\n",
       " ['.', '6', '.', '.', '.', '.', '2', '8', '.'],\n",
       " ['.', '.', '.', '4', '1', '9', '.', '.', '5'],\n",
       " ['.', '.', '.', '.', '8', '.', '.', '7', '9']]"
      ]
     },
     "execution_count": 3,
     "metadata": {},
     "output_type": "execute_result"
    }
   ],
   "source": [
    "board_T"
   ]
  },
  {
   "cell_type": "code",
   "execution_count": 2,
   "metadata": {},
   "outputs": [
    {
     "data": {
      "text/plain": [
       "[['5', '6', '.', '8', '4', '7', '.', '.', '.'],\n",
       " ['3', '.', '9', '.', '.', '.', '6', '.', '.'],\n",
       " ['.', '.', '8', '.', '.', '.', '.', '.', '.'],\n",
       " ['.', '1', '.', '.', '8', '.', '.', '4', '.'],\n",
       " ['7', '9', '.', '6', '.', '2', '.', '1', '8'],\n",
       " ['.', '5', '.', '.', '3', '.', '.', '9', '.'],\n",
       " ['.', '.', '.', '.', '.', '.', '2', '.', '.'],\n",
       " ['.', '.', '6', '.', '.', '.', '8', '.', '7'],\n",
       " ['.', '.', '.', '3', '1', '6', '.', '5', '9']]"
      ]
     },
     "execution_count": 2,
     "metadata": {},
     "output_type": "execute_result"
    }
   ],
   "source": [
    "first_column = [board_T[i][0] for i in range(len(board_T))]\n",
    "columns = []\n",
    "for r in range(len(board_T)):\n",
    "    columns.append([board_T[i][r] for i in range(len(board_T))])\n",
    "columns"
   ]
  },
  {
   "cell_type": "code",
   "execution_count": 4,
   "metadata": {},
   "outputs": [
    {
     "name": "stdout",
     "output_type": "stream",
     "text": [
      "True\n"
     ]
    },
    {
     "data": {
      "text/plain": [
       "{'2'}"
      ]
     },
     "execution_count": 4,
     "metadata": {},
     "output_type": "execute_result"
    }
   ],
   "source": [
    "empt = set()\n",
    "empt.add(\"2\")\n",
    "empt.add(\"2\")\n",
    "\"2\" in empt\n",
    "print(\"2\" in empt)\n",
    "# type(empt)\n",
    "empt"
   ]
  },
  {
   "cell_type": "code",
   "execution_count": 5,
   "metadata": {},
   "outputs": [
    {
     "data": {
      "text/plain": [
       "{'0, 0': {1, 2, 3}}"
      ]
     },
     "execution_count": 5,
     "metadata": {},
     "output_type": "execute_result"
    }
   ],
   "source": [
    "a = dict()\n",
    "elems = set()\n",
    "elems.add(1)\n",
    "elems.add(2)\n",
    "elems.add(2)\n",
    "elems.add(3)\n",
    "a[\"0, 0\"] = elems\n",
    "a"
   ]
  },
  {
   "cell_type": "code",
   "execution_count": null,
   "metadata": {},
   "outputs": [
    {
     "data": {
      "text/plain": [
       "{}"
      ]
     },
     "execution_count": 89,
     "metadata": {},
     "output_type": "execute_result"
    }
   ],
   "source": [
    "# a = dict(set())\n",
    "# a[\"0, 0\"] = "
   ]
  },
  {
   "cell_type": "code",
   "execution_count": 23,
   "metadata": {},
   "outputs": [],
   "source": [
    "from collections import defaultdict\n",
    "n = len(board_T)\n",
    "box_dict = defaultdict(list) # data structure should be [box_slice] : [0,0], [0,1] box slice elems: set()\n",
    "for i in range(n):\n",
    "    row_set = set()\n",
    "    column_set = set()\n",
    "    # res = defaultdict(list)\n",
    "    rk = i // 3\n",
    "    # print(\"row k: \",rk)\n",
    "    # print(f\"{i}:--------------\")\n",
    "    for j in range(n):  \n",
    "        row_slide = board_T[i][j]           # row check goes like [0][0,1,2,3]\n",
    "        column_slide = board_T[j][i]        # column check goes like [0,1,2,3][0]\n",
    "        ck = j // 3                         # find column index for boxes\n",
    "        # print(\"column k: \",ck)\n",
    "        box_index = tuple((rk,ck))              # tuple of box index  \n",
    "        # print(\"index: \",box_index)\n",
    "        # check if value is not \".\" and value already in boxdict\n",
    "        if (row_slide != \".\") & (row_slide in box_dict[box_index]):\n",
    "            print(\"duplicate found in box with index: \", box_index)\n",
    "        box_dict[box_index].append(board_T[i][j])\n",
    "        # print(box_dict)\n",
    "        if (row_slide != \".\") & (row_slide in row_set):\n",
    "            print('row duplicate detected! false')\n",
    "        row_set.add(row_slide)\n",
    "        if (column_slide != \".\") and (column_slide in column_set):\n",
    "            print('column duplicate detected! false')\n",
    "        column_set.add(column_slide)\n",
    "    # print(\"******************\")"
   ]
  },
  {
   "cell_type": "code",
   "execution_count": 33,
   "metadata": {},
   "outputs": [],
   "source": [
    "from collections import defaultdict\n",
    "\n",
    "\n",
    "def isValidSudoku(board: list[list[str]]):\n",
    "    n = len(board)\n",
    "    box_dict = defaultdict(list)\n",
    "    for i in range(n):\n",
    "        row_set = set()\n",
    "        column_set = set()\n",
    "        box_r = i // 3                          # box row offset\n",
    "        for j in range(n):\n",
    "            if board[i][j] == '.': continue\n",
    "            box_c = j // 3\n",
    "            row_slide = board[i][j]    # row check goes like [0][0,1,2,3]\n",
    "            column_slide = board[j][i]\n",
    "            box_offset = tuple((box_r, box_c))\n",
    "            if row_slide in box_dict[box_offset]:\n",
    "                print(\"duplicate detected in box with index: \", box_offset)\n",
    "                return False\n",
    "            box_dict[box_offset].append(row_slide)\n",
    "            if row_slide in row_set:\n",
    "                print('row duplicate detected! false')\n",
    "                return False\n",
    "            row_set.add(row_slide)\n",
    "            if column_slide in column_set:\n",
    "                print('column duplicate detected! false')\n",
    "                return False\n",
    "            column_set.add(column_slide)\n",
    "    return True"
   ]
  },
  {
   "cell_type": "code",
   "execution_count": null,
   "metadata": {},
   "outputs": [],
   "source": []
  },
  {
   "cell_type": "code",
   "execution_count": 30,
   "metadata": {},
   "outputs": [],
   "source": [
    "test_board = [[\"8\",\"3\",\".\",\".\",\"7\",\".\",\".\",\".\",\".\"],[\"6\",\".\",\".\",\"1\",\"9\",\"5\",\".\",\".\",\".\"],[\".\",\"9\",\"8\",\".\",\".\",\".\",\".\",\"6\",\".\"],[\"8\",\".\",\".\",\".\",\"6\",\".\",\".\",\".\",\"3\"],[\"4\",\".\",\".\",\"8\",\".\",\"3\",\".\",\".\",\"1\"],[\"7\",\".\",\".\",\".\",\"2\",\".\",\".\",\".\",\"6\"],[\".\",\"6\",\".\",\".\",\".\",\".\",\"2\",\"8\",\".\"],[\".\",\".\",\".\",\"4\",\"1\",\"9\",\".\",\".\",\"5\"],[\".\",\".\",\".\",\".\",\"8\",\".\",\".\",\"7\",\"9\"]]"
   ]
  },
  {
   "cell_type": "code",
   "execution_count": 31,
   "metadata": {},
   "outputs": [
    {
     "data": {
      "text/plain": [
       "[['8', '3', '.', '.', '7', '.', '.', '.', '.'],\n",
       " ['6', '.', '.', '1', '9', '5', '.', '.', '.'],\n",
       " ['.', '9', '8', '.', '.', '.', '.', '6', '.'],\n",
       " ['8', '.', '.', '.', '6', '.', '.', '.', '3'],\n",
       " ['4', '.', '.', '8', '.', '3', '.', '.', '1'],\n",
       " ['7', '.', '.', '.', '2', '.', '.', '.', '6'],\n",
       " ['.', '6', '.', '.', '.', '.', '2', '8', '.'],\n",
       " ['.', '.', '.', '4', '1', '9', '.', '.', '5'],\n",
       " ['.', '.', '.', '.', '8', '.', '.', '7', '9']]"
      ]
     },
     "execution_count": 31,
     "metadata": {},
     "output_type": "execute_result"
    }
   ],
   "source": [
    "test_board"
   ]
  },
  {
   "cell_type": "code",
   "execution_count": 34,
   "metadata": {},
   "outputs": [
    {
     "name": "stdout",
     "output_type": "stream",
     "text": [
      "column duplicate detected! false\n"
     ]
    },
    {
     "data": {
      "text/plain": [
       "False"
      ]
     },
     "execution_count": 34,
     "metadata": {},
     "output_type": "execute_result"
    }
   ],
   "source": [
    "isValidSudoku(test_board)"
   ]
  },
  {
   "cell_type": "code",
   "execution_count": null,
   "metadata": {},
   "outputs": [
    {
     "data": {
      "text/plain": [
       "[['5', '3', '.', '.', '7', '.', '.', '.', '.'],\n",
       " ['6', '.', '.', '1', '9', '5', '.', '.', '.'],\n",
       " ['.', '9', '8', '.', '.', '.', '.', '6', '.'],\n",
       " ['8', '.', '.', '.', '6', '.', '.', '.', '3'],\n",
       " ['4', '.', '.', '8', '.', '3', '.', '.', '1'],\n",
       " ['7', '.', '.', '.', '2', '.', '.', '.', '6'],\n",
       " ['.', '6', '.', '.', '.', '.', '2', '8', '.'],\n",
       " ['.', '.', '.', '4', '1', '9', '.', '.', '5'],\n",
       " ['.', '.', '.', '.', '8', '.', '.', '7', '9']]"
      ]
     },
     "execution_count": 29,
     "metadata": {},
     "output_type": "execute_result"
    }
   ],
   "source": [
    "board_T[1][]"
   ]
  },
  {
   "cell_type": "code",
   "execution_count": 28,
   "metadata": {},
   "outputs": [
    {
     "data": {
      "text/plain": [
       "True"
      ]
     },
     "execution_count": 28,
     "metadata": {},
     "output_type": "execute_result"
    }
   ],
   "source": [
    "isValidSudoku(board_T)"
   ]
  },
  {
   "cell_type": "code",
   "execution_count": 27,
   "metadata": {},
   "outputs": [
    {
     "data": {
      "text/plain": [
       "[['8', '3', '.', '.', '7', '.', '.', '.', '.'],\n",
       " ['6', '.', '.', '1', '9', '5', '.', '.', '.'],\n",
       " ['.', '9', '8', '.', '.', '.', '.', '6', '.'],\n",
       " ['8', '.', '.', '.', '6', '.', '.', '.', '3'],\n",
       " ['4', '.', '.', '8', '.', '3', '.', '.', '1'],\n",
       " ['7', '.', '.', '.', '2', '.', '.', '.', '6'],\n",
       " ['.', '6', '.', '.', '.', '.', '2', '8', '.'],\n",
       " ['.', '.', '.', '4', '1', '9', '.', '.', '5'],\n",
       " ['.', '.', '.', '.', '8', '.', '.', '7', '9']]"
      ]
     },
     "execution_count": 27,
     "metadata": {},
     "output_type": "execute_result"
    }
   ],
   "source": [
    "board_F"
   ]
  },
  {
   "cell_type": "code",
   "execution_count": 40,
   "metadata": {},
   "outputs": [
    {
     "data": {
      "text/plain": [
       "[['5', '3', '.', '.', '5', '.', '.', '.', '.'],\n",
       " ['6', '.', '.', '1', '9', '5', '.', '.', '.'],\n",
       " ['.', '9', '8', '.', '.', '.', '.', '6', '.'],\n",
       " ['8', '.', '.', '.', '6', '.', '.', '.', '3'],\n",
       " ['4', '.', '.', '8', '.', '3', '.', '.', '1'],\n",
       " ['7', '.', '.', '.', '2', '.', '.', '.', '6'],\n",
       " ['.', '6', '.', '.', '.', '.', '2', '8', '.'],\n",
       " ['.', '.', '.', '4', '1', '9', '.', '.', '5'],\n",
       " ['.', '.', '.', '.', '8', '.', '.', '7', '9']]"
      ]
     },
     "execution_count": 40,
     "metadata": {},
     "output_type": "execute_result"
    }
   ],
   "source": [
    "board_FF = board_T.copy()\n",
    "board_FF[0][4] = \"5\"\n",
    "board_FF"
   ]
  },
  {
   "cell_type": "code",
   "execution_count": 61,
   "metadata": {},
   "outputs": [
    {
     "name": "stdout",
     "output_type": "stream",
     "text": [
      "row duplicate detected! false\n"
     ]
    },
    {
     "data": {
      "text/plain": [
       "False"
      ]
     },
     "execution_count": 61,
     "metadata": {},
     "output_type": "execute_result"
    }
   ],
   "source": [
    "isValidSudoku(board_T)"
   ]
  },
  {
   "cell_type": "code",
   "execution_count": 62,
   "metadata": {},
   "outputs": [
    {
     "data": {
      "text/plain": [
       "[['5', '3', '.', '.', '5', '.', '.', '.', '.'],\n",
       " ['6', '.', '.', '1', '9', '5', '.', '.', '.'],\n",
       " ['.', '9', '8', '.', '.', '.', '.', '6', '.'],\n",
       " ['8', '.', '.', '.', '6', '.', '.', '.', '3'],\n",
       " ['4', '.', '.', '8', '.', '3', '.', '.', '1'],\n",
       " ['7', '.', '.', '.', '2', '.', '.', '.', '6'],\n",
       " ['.', '6', '.', '.', '.', '.', '2', '8', '.'],\n",
       " ['.', '.', '.', '4', '1', '9', '.', '.', '5'],\n",
       " ['.', '.', '.', '.', '8', '.', '.', '7', '9']]"
      ]
     },
     "execution_count": 62,
     "metadata": {},
     "output_type": "execute_result"
    }
   ],
   "source": [
    "board_T"
   ]
  },
  {
   "cell_type": "code",
   "execution_count": 108,
   "metadata": {},
   "outputs": [
    {
     "name": "stdout",
     "output_type": "stream",
     "text": [
      "53..7....\n",
      "6..195...\n",
      ".98....6.\n",
      "8...6...3\n",
      "4..8.3..1\n",
      "7...2...6\n",
      ".6....28.\n",
      "...419..5\n",
      "....8..79\n"
     ]
    }
   ],
   "source": [
    "for i in range(9):\n",
    "    out = \"\"\n",
    "    for j in range(9):\n",
    "        out += board_T[i][j]\n",
    "    print(out)"
   ]
  },
  {
   "cell_type": "markdown",
   "metadata": {},
   "source": [
    "### the most efficient solution that I found on leetcode"
   ]
  },
  {
   "cell_type": "code",
   "execution_count": 43,
   "metadata": {},
   "outputs": [],
   "source": [
    "from collections import defaultdict\n",
    "def isValidSudoku(board: list[list[str]]) -> bool:\n",
    "        row_data, column_data, box_data = defaultdict(set), defaultdict(set), defaultdict(set)\n",
    "        for i in range(9):\n",
    "            for j in range(9):\n",
    "                if board[i][j] == '.': continue\n",
    "                if board[i][j] in row_data[i] or board[i][j] in column_data[j] or board[i][j] in box_data[(i//3, j//3)]: return False\n",
    "                row_data[i].add(board[i][j])\n",
    "                column_data[j].add(board[i][j])\n",
    "                box_data[(i//3, j//3)].add(board[i][j])\n",
    "        return True"
   ]
  },
  {
   "cell_type": "code",
   "execution_count": 42,
   "metadata": {},
   "outputs": [
    {
     "name": "stdout",
     "output_type": "stream",
     "text": [
      "defaultdict(<class 'set'>, {0: {'5', '3', '7'}, 1: {'5', '6', '9', '1'}, 2: {'8', '6', '9'}, 3: {'8', '6', '3'}, 4: {'8', '3', '4', '1'}, 5: {'7', '6', '2'}, 6: {'8', '6', '2'}, 7: {'5', '9', '4', '1'}, 8: {'8', '7', '9'}})\n",
      "defaultdict(<class 'set'>, {0: {'8', '7', '4', '5', '6'}, 1: {'3', '6', '9'}, 4: {'7', '8', '2', '6', '9', '1'}, 3: {'8', '4', '1'}, 5: {'5', '3', '9'}, 2: {'8'}, 7: {'8', '7', '6'}, 8: {'5', '3', '6', '9', '1'}, 6: {'2'}})\n",
      "defaultdict(<class 'set'>, {(0, 0): {'8', '5', '3', '6', '9'}, (0, 1): {'5', '7', '9', '1'}, (0, 2): {'6'}, (1, 0): {'8', '7', '4'}, (1, 1): {'2', '8', '6', '3'}, (1, 2): {'3', '6', '1'}, (2, 0): {'6'}, (2, 2): {'8', '7', '2', '5', '9'}, (2, 1): {'8', '9', '4', '1'}})\n"
     ]
    },
    {
     "data": {
      "text/plain": [
       "True"
      ]
     },
     "execution_count": 42,
     "metadata": {},
     "output_type": "execute_result"
    }
   ],
   "source": [
    "isValidSudoku(board_T)"
   ]
  },
  {
   "cell_type": "markdown",
   "metadata": {},
   "source": [
    "## LC:128- Longest Consecutive Sequence"
   ]
  },
  {
   "cell_type": "markdown",
   "metadata": {},
   "source": [
    "Given an unsorted array of integers nums, return the length of the longest consecutive elements sequence.\n",
    "\n",
    "You must write an algorithm that runs in O(n) time.\n",
    "\n",
    " \n",
    "\n",
    "Example 1:\n",
    "\n",
    "Input: nums = [100,4,200,1,3,2]\n",
    "\n",
    "\n",
    "Output: 4\n",
    "\n",
    "\n",
    "Explanation: The longest consecutive elements sequence is [1, 2, 3, 4]. Therefore its length is 4.\n",
    "\n",
    "\n",
    "Example 2:\n",
    "\n",
    "Input: nums = [0,3,7,2,5,8,4,6,0,1]\n",
    "\n",
    "\n",
    "Output: 9\n",
    " \n",
    "\n",
    "Constraints:\n",
    "\n",
    "0 <= nums.length <= 105\n",
    "-109 <= nums[i] <= 109"
   ]
  },
  {
   "cell_type": "code",
   "execution_count": 1,
   "metadata": {},
   "outputs": [],
   "source": [
    "# 1: set the input \n",
    "# 2: start with zeroth index and go right\n",
    "# 3: check if left neighbor of current index in set\n",
    "# 3.1: if yes -> iteratively check other \n",
    "# 3.2: if no -> increment index by one and go to step 3"
   ]
  },
  {
   "cell_type": "code",
   "execution_count": 2,
   "metadata": {},
   "outputs": [],
   "source": [
    "nums1 = [100,4,200,1,3,2]       # 4 expected\n",
    "nums2 = [0,3,7,2,5,8,4,6,0,1]   # 9 expected"
   ]
  },
  {
   "cell_type": "code",
   "execution_count": 21,
   "metadata": {},
   "outputs": [],
   "source": [
    "def longestConsecutive(nums: list[int]) -> int:\n",
    "    numset = set(nums)\n",
    "    longest = 0\n",
    "    for num in nums:\n",
    "        print(\"*************\")\n",
    "        print(\"current nums is: \", num)\n",
    "        # check if num is start of a sequence:\n",
    "        if (num - 1) not in numset:     # if num -1 is not in set it means: it is the start of a sequence\n",
    "            length = 0                  # set length of sequence to 0 \n",
    "            while(num + length) in numset:      # iteratively check num + length\n",
    "                print(\"current length is: \", length ,\" length is increasing for current number: \", num)\n",
    "                length += 1                     # increase length by 1\n",
    "                print(\"length updated to: \", length)\n",
    "            longest = max(length, longest)\n",
    "            print(\"*************\")\n",
    "        print(\"*************\")\n",
    "            \n",
    "    return longest"
   ]
  },
  {
   "cell_type": "code",
   "execution_count": 22,
   "metadata": {},
   "outputs": [
    {
     "name": "stdout",
     "output_type": "stream",
     "text": [
      "*************\n",
      "current nums is:  100\n",
      "current length is:  0  length is increasing for current number:  100\n",
      "length updated to:  1\n",
      "*************\n",
      "*************\n",
      "*************\n",
      "current nums is:  4\n",
      "*************\n",
      "*************\n",
      "current nums is:  200\n",
      "current length is:  0  length is increasing for current number:  200\n",
      "length updated to:  1\n",
      "*************\n",
      "*************\n",
      "*************\n",
      "current nums is:  1\n",
      "current length is:  0  length is increasing for current number:  1\n",
      "length updated to:  1\n",
      "current length is:  1  length is increasing for current number:  1\n",
      "length updated to:  2\n",
      "current length is:  2  length is increasing for current number:  1\n",
      "length updated to:  3\n",
      "current length is:  3  length is increasing for current number:  1\n",
      "length updated to:  4\n",
      "*************\n",
      "*************\n",
      "*************\n",
      "current nums is:  3\n",
      "*************\n",
      "*************\n",
      "current nums is:  2\n",
      "*************\n"
     ]
    },
    {
     "data": {
      "text/plain": [
       "4"
      ]
     },
     "execution_count": 22,
     "metadata": {},
     "output_type": "execute_result"
    }
   ],
   "source": [
    "longestConsecutive(nums1)"
   ]
  },
  {
   "cell_type": "markdown",
   "metadata": {},
   "source": [
    "### clean sol."
   ]
  },
  {
   "cell_type": "code",
   "execution_count": null,
   "metadata": {},
   "outputs": [],
   "source": [
    "def longestConsecutive(nums: list[int]) -> int:\n",
    "    numset = set(nums)\n",
    "    longest = 0\n",
    "    for num in nums:\n",
    "        if (num-1) not in numset:\n",
    "            length = 0\n",
    "            while (num+ length) in numset:\n",
    "                length += 1\n",
    "            longest = max(length, longest)\n",
    "    return longest"
   ]
  },
  {
   "cell_type": "code",
   "execution_count": 25,
   "metadata": {},
   "outputs": [
    {
     "data": {
      "text/plain": [
       "9"
      ]
     },
     "execution_count": 25,
     "metadata": {},
     "output_type": "execute_result"
    }
   ],
   "source": [
    "longestConsecutive(nums2)"
   ]
  },
  {
   "cell_type": "markdown",
   "metadata": {},
   "source": [
    "### the fastest sol on leetcode"
   ]
  },
  {
   "cell_type": "code",
   "execution_count": null,
   "metadata": {},
   "outputs": [],
   "source": [
    "def longestConsecutive(self, nums: list[int]) -> int:\n",
    "        if len(nums) == 0:      # base case\n",
    "            return 0\n",
    "        \n",
    "        clean = sorted(set(nums))   # sorted order \n",
    "        \n",
    "        last = None\n",
    "        count = 1\n",
    "        max_len = 0\n",
    "        for x in clean:\n",
    "            if x - 1 == last:\n",
    "                count += 1\n",
    "            else:\n",
    "                \n",
    "                if count > max_len:\n",
    "                    max_len = count\n",
    "                count = 1 \n",
    "            last = x\n",
    "        if count > max_len:\n",
    "            max_len = count\n",
    "        return max_len"
   ]
  },
  {
   "cell_type": "code",
   "execution_count": 26,
   "metadata": {},
   "outputs": [
    {
     "data": {
      "text/plain": [
       "9"
      ]
     },
     "execution_count": 26,
     "metadata": {},
     "output_type": "execute_result"
    }
   ],
   "source": [
    "longestConsecutive(nums2)"
   ]
  },
  {
   "cell_type": "code",
   "execution_count": null,
   "metadata": {},
   "outputs": [],
   "source": []
  }
 ],
 "metadata": {
  "kernelspec": {
   "display_name": "env3.9",
   "language": "python",
   "name": "python3"
  },
  "language_info": {
   "codemirror_mode": {
    "name": "ipython",
    "version": 3
   },
   "file_extension": ".py",
   "mimetype": "text/x-python",
   "name": "python",
   "nbconvert_exporter": "python",
   "pygments_lexer": "ipython3",
   "version": "3.9.20"
  }
 },
 "nbformat": 4,
 "nbformat_minor": 2
}
