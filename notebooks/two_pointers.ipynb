{
 "cells": [
  {
   "cell_type": "markdown",
   "metadata": {},
   "source": [
    "## LC 125: Valid Palindrome"
   ]
  },
  {
   "cell_type": "markdown",
   "metadata": {},
   "source": [
    "A phrase is a palindrome if, after converting all uppercase letters into lowercase letters and removing all non-alphanumeric characters, it reads the same forward and backward. Alphanumeric characters include letters and numbers.\n",
    "\n",
    "Given a string s, return true if it is a palindrome, or false otherwise.\n",
    "\n",
    " \n",
    "\n",
    "Example 1:\n",
    "\n",
    "Input: s = \"A man, a plan, a canal: Panama\"\n",
    "\n",
    "\n",
    "Output: true\n",
    "\n",
    "\n",
    "Explanation: \"amanaplanacanalpanama\" is a palindrome.\n",
    "\n",
    "\n",
    "Example 2:\n",
    "\n",
    "Input: s = \"race a car\"\n",
    "\n",
    "Output: false\n",
    "\n",
    "Explanation: \"raceacar\" is not a palindrome.\n",
    "\n",
    "\n",
    "Example 3:\n",
    "\n",
    "Input: s = \" \"\n",
    "\n",
    "Output: true\n",
    "\n",
    "Explanation: s is an empty string \"\" after removing non-alphanumeric characters.\n",
    "Since an empty string reads the same forward and backward, it is a palindrome.\n",
    " \n",
    "\n",
    "Constraints:\n",
    "\n",
    "1 <= s.length <= 2 * 105\n",
    "s consists only of printable ASCII characters."
   ]
  },
  {
   "cell_type": "code",
   "execution_count": 3,
   "metadata": {},
   "outputs": [],
   "source": [
    "s0 = \"race a car\"\n",
    "s1 = \" \"\n",
    "s2 = \"A man, a plan, a canal: Panama\""
   ]
  },
  {
   "cell_type": "code",
   "execution_count": 12,
   "metadata": {},
   "outputs": [
    {
     "data": {
      "text/plain": [
       "'amanaplanacanalpanama'"
      ]
     },
     "execution_count": 12,
     "metadata": {},
     "output_type": "execute_result"
    }
   ],
   "source": [
    "d = \"\".join([k.lower() for k in s2 if k.isalpha()])\n",
    "d"
   ]
  },
  {
   "cell_type": "markdown",
   "metadata": {},
   "source": [
    "### my dirty solution"
   ]
  },
  {
   "cell_type": "code",
   "execution_count": 35,
   "metadata": {},
   "outputs": [],
   "source": [
    "def isPalindrome(s: str)-> bool:\n",
    "    # preprocess delete all non-alphanumberic chars and convert to lower\n",
    "    d = \"\".join([k.lower() for k in s if k.isalnum()])\n",
    "    print(d)\n",
    "    for i in range(len(d)):\n",
    "        if d[i] != d[len(d)-1-i]:\n",
    "            return False\n",
    "    return True"
   ]
  },
  {
   "cell_type": "code",
   "execution_count": 31,
   "metadata": {},
   "outputs": [
    {
     "name": "stdout",
     "output_type": "stream",
     "text": [
      "raceacar\n"
     ]
    },
    {
     "data": {
      "text/plain": [
       "False"
      ]
     },
     "execution_count": 31,
     "metadata": {},
     "output_type": "execute_result"
    }
   ],
   "source": [
    "isPalindrome(s0)"
   ]
  },
  {
   "cell_type": "markdown",
   "metadata": {},
   "source": [
    "failed test case fixed with adding isnumeric condition to the list comprehension"
   ]
  },
  {
   "cell_type": "code",
   "execution_count": 32,
   "metadata": {},
   "outputs": [],
   "source": [
    "s4 = \"0P\""
   ]
  },
  {
   "cell_type": "code",
   "execution_count": 34,
   "metadata": {},
   "outputs": [
    {
     "name": "stdout",
     "output_type": "stream",
     "text": [
      "0p\n"
     ]
    },
    {
     "data": {
      "text/plain": [
       "False"
      ]
     },
     "execution_count": 34,
     "metadata": {},
     "output_type": "execute_result"
    }
   ],
   "source": [
    "isPalindrome(s4)"
   ]
  },
  {
   "cell_type": "code",
   "execution_count": null,
   "metadata": {},
   "outputs": [],
   "source": [
    "def isPalindrome(s:str) -> bool:\n",
    "    newStr = \"\"\n",
    "    for c in s:\n",
    "        if c.isalnum():\n",
    "            newStr += c.lower()\n",
    "    return newStr == newStr[::-1]"
   ]
  },
  {
   "cell_type": "markdown",
   "metadata": {},
   "source": [
    "### two pointers sol"
   ]
  },
  {
   "cell_type": "code",
   "execution_count": 40,
   "metadata": {},
   "outputs": [],
   "source": [
    "def isPalindrome(s:str) -> bool:\n",
    "    l,r = 0, len(s) -1\n",
    "    \n",
    "    while(l<r):\n",
    "        while l<r and  not isalphanum(s[l]):\n",
    "            l +=1\n",
    "        \n",
    "        while r>l and not isalphanum(s[r]):\n",
    "            r -=1\n",
    "        \n",
    "        if s[l].lower() !=s[r].lower():\n",
    "            return False\n",
    "        l, r = l + 1 , r - 1    \n",
    "    return True\n",
    "\n",
    "def isalphanum(c):\n",
    "    return (ord(\"A\")<=ord(c)<=ord(\"Z\") or\n",
    "            ord(\"a\")<=ord(c)<=ord(\"z\") or\n",
    "            ord(\"0\")<=ord(c)<=ord(\"9\"))"
   ]
  },
  {
   "cell_type": "code",
   "execution_count": 41,
   "metadata": {},
   "outputs": [
    {
     "data": {
      "text/plain": [
       "True"
      ]
     },
     "execution_count": 41,
     "metadata": {},
     "output_type": "execute_result"
    }
   ],
   "source": [
    "isPalindrome(s2)"
   ]
  },
  {
   "cell_type": "markdown",
   "metadata": {},
   "source": [
    "## LC 167: Two Sum II - Input Array Is Sorted"
   ]
  },
  {
   "cell_type": "markdown",
   "metadata": {},
   "source": [
    "Given a 1-indexed array of integers numbers that is already sorted in non-decreasing order, find two numbers such that they add up to a specific target number. Let these two numbers be numbers[index1] and numbers[index2] where 1 <= index1 < index2 <= numbers.length.\n",
    "\n",
    "Return the indices of the two numbers, index1 and index2, added by one as an integer array [index1, index2] of length 2.\n",
    "\n",
    "The tests are generated such that there is exactly one solution. You may not use the same element twice.\n",
    "\n",
    "Your solution must use only constant extra space.\n",
    "\n",
    " \n",
    "\n",
    "Example 1:\n",
    "\n",
    "Input: numbers = [2,7,11,15]\n",
    "\n",
    "target = 9\n",
    "\n",
    "Output: [1,2]\n",
    "\n",
    "\n",
    "Explanation: The sum of 2 and 7 is 9. Therefore, index1 = 1, index2 = 2. We return [1, 2].\n",
    "\n",
    "\n",
    "Example 2:\n",
    "\n",
    "Input: numbers = [2,3,4]\n",
    "\n",
    "target = 6\n",
    "\n",
    "\n",
    "Output: [1,3]\n",
    "\n",
    "Explanation: The sum of 2 and 4 is 6. Therefore index1 = 1, index2 = 3. We return [1, 3].\n",
    "\n",
    "\n",
    "Example 3:\n",
    "\n",
    "Input: numbers = [-1,0]\n",
    "\n",
    "target = -1\n",
    "\n",
    "Output: [1,2]\n",
    "\n",
    "\n",
    "Explanation: The sum of -1 and 0 is -1. Therefore index1 = 1, index2 = 2. We return [1, 2].\n",
    " \n",
    "\n",
    "Constraints:\n",
    "\n",
    "2 <= numbers.length <= 3 * 104\n",
    "-1000 <= numbers[i] <= 1000\n",
    "numbers is sorted in non-decreasing order.\n",
    "-1000 <= target <= 1000\n",
    "The tests are generated such that there is exactly one solution."
   ]
  },
  {
   "cell_type": "code",
   "execution_count": 51,
   "metadata": {},
   "outputs": [],
   "source": [
    "numbers1 = [2,7,11,15]   # target = 9        out = [1, 2]\n",
    "numbers2 = [2,3,4]       # target = 6        out = [1, 3]\n",
    "numbers3 = [-1,0]        # target = -1       out = [1, 2]\n",
    "numbers4 = [-11, -9, -7, -3, -2, 0, 1, 2, 3, 6]"
   ]
  },
  {
   "cell_type": "code",
   "execution_count": 54,
   "metadata": {},
   "outputs": [],
   "source": [
    "def twoSum(numbers:list[int], target:int) -> list[int]:\n",
    "    l, r = 0, len(numbers) - 1 \n",
    "    while l<r:\n",
    "        sum = numbers[l] + numbers[r]\n",
    "        print(sum, l, r)\n",
    "        if sum > target:\n",
    "            r -= 1\n",
    "        elif sum < target:\n",
    "            l += 1\n",
    "        else:\n",
    "            return [l+1, r+1]"
   ]
  },
  {
   "cell_type": "code",
   "execution_count": 55,
   "metadata": {},
   "outputs": [
    {
     "data": {
      "text/plain": [
       "[-11, -9, -7, -3, -2, 0, 1, 2, 3, 6]"
      ]
     },
     "execution_count": 55,
     "metadata": {},
     "output_type": "execute_result"
    }
   ],
   "source": [
    "numbers4"
   ]
  },
  {
   "cell_type": "code",
   "execution_count": 56,
   "metadata": {},
   "outputs": [
    {
     "name": "stdout",
     "output_type": "stream",
     "text": [
      "-5 0 9\n",
      "-3 1 9\n",
      "-6 1 8\n",
      "-4 2 8\n"
     ]
    },
    {
     "data": {
      "text/plain": [
       "[3, 9]"
      ]
     },
     "execution_count": 56,
     "metadata": {},
     "output_type": "execute_result"
    }
   ],
   "source": [
    "twoSum(numbers4, -4)"
   ]
  },
  {
   "cell_type": "code",
   "execution_count": null,
   "metadata": {},
   "outputs": [],
   "source": []
  },
  {
   "cell_type": "markdown",
   "metadata": {},
   "source": []
  }
 ],
 "metadata": {
  "kernelspec": {
   "display_name": "base",
   "language": "python",
   "name": "python3"
  },
  "language_info": {
   "codemirror_mode": {
    "name": "ipython",
    "version": 3
   },
   "file_extension": ".py",
   "mimetype": "text/x-python",
   "name": "python",
   "nbconvert_exporter": "python",
   "pygments_lexer": "ipython3",
   "version": "3.11.5"
  }
 },
 "nbformat": 4,
 "nbformat_minor": 2
}
