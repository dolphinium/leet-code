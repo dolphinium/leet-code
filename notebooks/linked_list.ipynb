{
 "cells": [
  {
   "cell_type": "markdown",
   "metadata": {},
   "source": [
    "## 206. Reverse Linked List"
   ]
  },
  {
   "cell_type": "markdown",
   "metadata": {},
   "source": [
    "Given the head of a singly linked list, reverse the list, and return the reversed list."
   ]
  },
  {
   "cell_type": "markdown",
   "metadata": {},
   "source": [
    "Input: head = [1,2,3,4,5]  \n",
    "Output: [5,4,3,2,1]"
   ]
  },
  {
   "cell_type": "markdown",
   "metadata": {},
   "source": [
    "Input: head = [1,2]  \n",
    "Output: [2,1]"
   ]
  },
  {
   "cell_type": "markdown",
   "metadata": {},
   "source": [
    "Input: head = []        \n",
    "Output: []"
   ]
  },
  {
   "cell_type": "code",
   "execution_count": 1,
   "metadata": {},
   "outputs": [],
   "source": [
    "head1 = [1,2,3,4,5] # output: [5,4,3,2,1]\n",
    "head2 = [1,2]       # output: [2,1];\n",
    "head3 = []          # output: []"
   ]
  },
  {
   "cell_type": "markdown",
   "metadata": {},
   "source": [
    "### SOL1: Iterative --> TIME: O(N), SPACE: O(1)"
   ]
  },
  {
   "cell_type": "code",
   "execution_count": 2,
   "metadata": {},
   "outputs": [],
   "source": [
    "# class of list node which consist of elments val and next\n",
    "class ListNode:\n",
    "    def __init__(self, val=0, next= None):\n",
    "        self.val = val\n",
    "        self.next = next\n",
    "        \n",
    "    def __str__(self):\n",
    "        result = []\n",
    "        current = self\n",
    "        while current:\n",
    "            result.append(str(current.val))\n",
    "            current = current.next\n",
    "        return \" -> \".join(result)\n",
    "    \n",
    "### Helper function to convert list to linkedlist\n",
    "def list_to_linked_list(lst):\n",
    "    if not lst:\n",
    "        return None\n",
    "    head = ListNode(lst[0])\n",
    "    current = head\n",
    "    for value in lst[1:]:\n",
    "        current.next = ListNode(value)\n",
    "        current = current.next\n",
    "    return head\n",
    "\n",
    "### Main part of solution which reverse a linkedlist\n",
    "def reverseList(head: ListNode)->ListNode:\n",
    "    prev, curr = None, head\n",
    "    while curr:     # while current pointer is not null\n",
    "        nxt = curr.next # store the next pointer before reassign it\n",
    "        # SHIFT STARTS \n",
    "        curr.next = prev    # next pointer of the current node is the previous node\n",
    "        prev = curr     # shift previous node the current \n",
    "        curr = nxt  # shift current node pointer to the next node\n",
    "    return prev"
   ]
  },
  {
   "cell_type": "code",
   "execution_count": 7,
   "metadata": {},
   "outputs": [
    {
     "name": "stdout",
     "output_type": "stream",
     "text": [
      "1 -> 2 -> 3 -> 4 -> 5\n",
      "5 -> 4 -> 3 -> 2 -> 1\n",
      "1 -> 2\n",
      "2 -> 1\n"
     ]
    }
   ],
   "source": [
    "ll1 = list_to_linked_list(head1)\n",
    "print(ll1)\n",
    "reversed_head = reverseList(ll1)\n",
    "print(reversed_head)\n",
    "ll2 = list_to_linked_list(head2)\n",
    "print(ll2)\n",
    "reversed_head2 = reverseList(ll2)\n",
    "print(reversed_head2)"
   ]
  },
  {
   "cell_type": "markdown",
   "metadata": {},
   "source": [
    "### SOL2: Recursive --> TIME: O(N) SPACE: O(N)"
   ]
  },
  {
   "cell_type": "code",
   "execution_count": null,
   "metadata": {},
   "outputs": [],
   "source": [
    "def reverseListRecur(head):\n",
    "    if not head:\n",
    "        return None\n",
    "    \n",
    "    newHead = head \n",
    "    if head.next:\n",
    "        newHead = reverseListRecur(head.next)\n",
    "        head.next.next = head\n",
    "    head.next = None\n",
    "    return newHead"
   ]
  }
 ],
 "metadata": {
  "kernelspec": {
   "display_name": "env3.9",
   "language": "python",
   "name": "python3"
  },
  "language_info": {
   "codemirror_mode": {
    "name": "ipython",
    "version": 3
   },
   "file_extension": ".py",
   "mimetype": "text/x-python",
   "name": "python",
   "nbconvert_exporter": "python",
   "pygments_lexer": "ipython3",
   "version": "3.9.20"
  }
 },
 "nbformat": 4,
 "nbformat_minor": 2
}
