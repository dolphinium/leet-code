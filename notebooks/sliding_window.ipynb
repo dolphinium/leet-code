{
 "cells": [
  {
   "cell_type": "markdown",
   "metadata": {},
   "source": [
    "## LC121: Best Time to Buy and Sell Stock"
   ]
  },
  {
   "cell_type": "markdown",
   "metadata": {},
   "source": [
    "You are given an array prices where prices[i] is the price of a given stock on the ith day.\n",
    "\n",
    "You want to maximize your profit by choosing a single day to buy one stock and choosing a different day in the future to sell that stock.\n",
    "\n",
    "Return the maximum profit you can achieve from this transaction. If you cannot achieve any profit, return 0.\n",
    "\n",
    " \n",
    "\n",
    "Example 1:\n",
    "\n",
    "Input: prices = [7,1,5,3,6,4]\n",
    "Output: 5\n",
    "Explanation: Buy on day 2 (price = 1) and sell on day 5 (price = 6), profit = 6-1 = 5.\n",
    "Note that buying on day 2 and selling on day 1 is not allowed because you must buy before you sell.\n",
    "Example 2:\n",
    "\n",
    "Input: prices = [7,6,4,3,1]\n",
    "Output: 0\n",
    "Explanation: In this case, no transactions are done and the max profit = 0.\n",
    " \n",
    "\n",
    "Constraints:\n",
    "\n",
    "1 <= prices.length <= 105\n",
    "0 <= prices[i] <= 104"
   ]
  },
  {
   "cell_type": "code",
   "execution_count": 72,
   "metadata": {},
   "outputs": [],
   "source": [
    "prices1 = [7,1,5,3,6,4]     # out 5 buy on 2nd day and sell on 5th day  6-1 = 5\n",
    "prices2 = [7,6,4,3,1]       # out 0 \n",
    "prices3 = [5,1,5,6,7,1]\n",
    "prices4 = [1,2,4,2,5,7,2,4,9,0,9]   # out 9\n",
    "prices5 = [2,2,4,2,5,7,2,4,9,1,0]   # out \n"
   ]
  },
  {
   "cell_type": "code",
   "execution_count": 4,
   "metadata": {},
   "outputs": [
    {
     "data": {
      "text/plain": [
       "7"
      ]
     },
     "execution_count": 4,
     "metadata": {},
     "output_type": "execute_result"
    }
   ],
   "source": [
    "max(prices1)"
   ]
  },
  {
   "cell_type": "markdown",
   "metadata": {},
   "source": [
    "brute force solution"
   ]
  },
  {
   "cell_type": "code",
   "execution_count": 39,
   "metadata": {},
   "outputs": [],
   "source": [
    "def maxProfit(prices:list[int])-> int:\n",
    "    profit = 0\n",
    "    for i in range(len(prices) - 1,):\n",
    "        currMin = prices[i]  # assume ith elem is the lowest\n",
    "        print(\"assumed min\", currMin)\n",
    "        if currMin >= max(prices[i+1:]):\n",
    "            currProfit = 0\n",
    "        else:\n",
    "            currProfit = max(prices[i+1:]) - currMin\n",
    "            print(max(prices[i+1:]))\n",
    "            print(currMin)\n",
    "        print(\"current profit: \", currProfit)\n",
    "        profit = max(currProfit, profit)\n",
    "        print(\"profit on the iter: \",profit)\n",
    "        print(prices[i+1:])\n",
    "    return profit "
   ]
  },
  {
   "cell_type": "code",
   "execution_count": 71,
   "metadata": {},
   "outputs": [
    {
     "data": {
      "text/plain": [
       "9"
      ]
     },
     "execution_count": 71,
     "metadata": {},
     "output_type": "execute_result"
    }
   ],
   "source": [
    "maxProfit(prices4)"
   ]
  },
  {
   "cell_type": "code",
   "execution_count": 43,
   "metadata": {},
   "outputs": [
    {
     "data": {
      "text/plain": [
       "[7, 1, 5, 3, 6, 4]"
      ]
     },
     "execution_count": 43,
     "metadata": {},
     "output_type": "execute_result"
    }
   ],
   "source": [
    "prices1"
   ]
  },
  {
   "cell_type": "code",
   "execution_count": 65,
   "metadata": {},
   "outputs": [],
   "source": [
    "def maxProfit(prices: list[int]) -> int:\n",
    "    maxP = 0\n",
    "    # we need to pointers started from  l, r => 0 , 1\n",
    "    l,r = 0,1\n",
    "    while r < len(prices):\n",
    "        if prices[l] < prices[r]:       # means there is a profit\n",
    "            profit = prices[r]-prices[l]\n",
    "            maxP = max(maxP, profit)\n",
    "        else:\n",
    "            l = r\n",
    "        r +=1               # regardless of input we must increment r by 1 on each iteration\n",
    "        \n",
    "    return maxP"
   ]
  },
  {
   "cell_type": "code",
   "execution_count": 69,
   "metadata": {},
   "outputs": [
    {
     "name": "stdout",
     "output_type": "stream",
     "text": [
      "[7, 1, 5, 3, 6, 4]\n"
     ]
    },
    {
     "data": {
      "text/plain": [
       "[6, 3, 5, 1, 7]"
      ]
     },
     "execution_count": 69,
     "metadata": {},
     "output_type": "execute_result"
    }
   ],
   "source": [
    "print(prices1)\n",
    "prices1[-2::-1]"
   ]
  },
  {
   "cell_type": "code",
   "execution_count": 67,
   "metadata": {},
   "outputs": [
    {
     "data": {
      "text/plain": [
       "7"
      ]
     },
     "execution_count": 67,
     "metadata": {},
     "output_type": "execute_result"
    }
   ],
   "source": [
    "maxProfit(prices5)"
   ]
  },
  {
   "cell_type": "markdown",
   "metadata": {},
   "source": [
    "## LC3: Longest Substring Without Repeating Characters"
   ]
  },
  {
   "cell_type": "markdown",
   "metadata": {},
   "source": [
    "Given a string s, find the length of the longest \n",
    "substring\n",
    " without repeating characters.\n",
    "\n",
    " \n",
    "\n",
    "Example 1:\n",
    "\n",
    "Input: s = \"abcabcbb\"\n",
    "Output: 3\n",
    "Explanation: The answer is \"abc\", with the length of 3.\n",
    "Example 2:\n",
    "\n",
    "Input: s = \"bbbbb\"\n",
    "Output: 1\n",
    "Explanation: The answer is \"b\", with the length of 1.\n",
    "Example 3:\n",
    "\n",
    "Input: s = \"pwwkew\"\n",
    "Output: 3\n",
    "Explanation: The answer is \"wke\", with the length of 3.\n",
    "Notice that the answer must be a substring, \"pwke\" is a subsequence and not a substring.\n",
    " \n",
    "\n",
    "Constraints:\n",
    "\n",
    "0 <= s.length <= 5 * 104\n",
    "s consists of English letters, digits, symbols and spaces."
   ]
  },
  {
   "cell_type": "code",
   "execution_count": 73,
   "metadata": {},
   "outputs": [],
   "source": [
    "s1 = \"abcabcbb\" # out 3 abc\n",
    "s2 = \"bbbbb\"    # out 1 b \n",
    "s3 = \"pwwkew\"   # out 3 wke"
   ]
  },
  {
   "cell_type": "code",
   "execution_count": 108,
   "metadata": {},
   "outputs": [
    {
     "data": {
      "text/plain": [
       "'a'"
      ]
     },
     "execution_count": 108,
     "metadata": {},
     "output_type": "execute_result"
    }
   ],
   "source": [
    "s1 [0:1]"
   ]
  },
  {
   "cell_type": "markdown",
   "metadata": {},
   "source": [
    "### my solution not optimized but works well"
   ]
  },
  {
   "cell_type": "code",
   "execution_count": 241,
   "metadata": {},
   "outputs": [],
   "source": [
    "def lengthOfLongestSubstring(s: str)-> int:\n",
    "    l,r = 0, 1\n",
    "    ss = set()  # ss stands for substring\n",
    "    maxlen = 0\n",
    "    while r <= len(s):       # track right pointer till the end\n",
    "        print(\"left-p: \",l,\" right-p: \",r)\n",
    "        print(\"pointed substring: \", s[l:r])\n",
    "        print(\"new char\",s[r-1])\n",
    "        print(\"s[l:r-1]: \", s[l:r-1])\n",
    "        print(\"s[l:r] not in ss: \", s[l:r] not in ss)\n",
    "        print(\"s[r-1] not in s[l:r-1]: \", s[r-1] not in s[l:r-1])\n",
    "        # if s[l:r] not in ss and s[r-1] not in s[l:r-1]:\n",
    "        if s[r-1] not in s[l:r-1]:\n",
    "            ss.add(s[l:r])\n",
    "            maxlen = max(maxlen, len(s[l:r]))\n",
    "            # ss.add(s[r-1])\n",
    "        else:\n",
    "            l += 1 \n",
    "            r = l \n",
    "        r += 1\n",
    "        print(\"set: \", ss)\n",
    "        print(s)\n",
    "        print(\"************************************\")\n",
    "    \n",
    "    return maxlen "
   ]
  },
  {
   "cell_type": "code",
   "execution_count": 242,
   "metadata": {},
   "outputs": [],
   "source": [
    "ts = \"dvdf\"     # ts stands for test-string"
   ]
  },
  {
   "cell_type": "code",
   "execution_count": 243,
   "metadata": {},
   "outputs": [
    {
     "data": {
      "text/plain": [
       "'pwwkew'"
      ]
     },
     "execution_count": 243,
     "metadata": {},
     "output_type": "execute_result"
    }
   ],
   "source": [
    "s3"
   ]
  },
  {
   "cell_type": "code",
   "execution_count": 244,
   "metadata": {},
   "outputs": [
    {
     "name": "stdout",
     "output_type": "stream",
     "text": [
      "left-p:  0  right-p:  1\n",
      "pointed substring:  a\n",
      "new char a\n",
      "s[l:r-1]:  \n",
      "s[l:r] not in ss:  True\n",
      "s[r-1] not in s[l:r-1]:  True\n",
      "set:  {'a'}\n",
      "abcabcbb\n",
      "************************************\n",
      "left-p:  0  right-p:  2\n",
      "pointed substring:  ab\n",
      "new char b\n",
      "s[l:r-1]:  a\n",
      "s[l:r] not in ss:  True\n",
      "s[r-1] not in s[l:r-1]:  True\n",
      "set:  {'ab', 'a'}\n",
      "abcabcbb\n",
      "************************************\n",
      "left-p:  0  right-p:  3\n",
      "pointed substring:  abc\n",
      "new char c\n",
      "s[l:r-1]:  ab\n",
      "s[l:r] not in ss:  True\n",
      "s[r-1] not in s[l:r-1]:  True\n",
      "set:  {'ab', 'a', 'abc'}\n",
      "abcabcbb\n",
      "************************************\n",
      "left-p:  0  right-p:  4\n",
      "pointed substring:  abca\n",
      "new char a\n",
      "s[l:r-1]:  abc\n",
      "s[l:r] not in ss:  True\n",
      "s[r-1] not in s[l:r-1]:  False\n",
      "set:  {'ab', 'a', 'abc'}\n",
      "abcabcbb\n",
      "************************************\n",
      "left-p:  1  right-p:  2\n",
      "pointed substring:  b\n",
      "new char b\n",
      "s[l:r-1]:  \n",
      "s[l:r] not in ss:  True\n",
      "s[r-1] not in s[l:r-1]:  True\n",
      "set:  {'ab', 'b', 'a', 'abc'}\n",
      "abcabcbb\n",
      "************************************\n",
      "left-p:  1  right-p:  3\n",
      "pointed substring:  bc\n",
      "new char c\n",
      "s[l:r-1]:  b\n",
      "s[l:r] not in ss:  True\n",
      "s[r-1] not in s[l:r-1]:  True\n",
      "set:  {'abc', 'ab', 'bc', 'b', 'a'}\n",
      "abcabcbb\n",
      "************************************\n",
      "left-p:  1  right-p:  4\n",
      "pointed substring:  bca\n",
      "new char a\n",
      "s[l:r-1]:  bc\n",
      "s[l:r] not in ss:  True\n",
      "s[r-1] not in s[l:r-1]:  True\n",
      "set:  {'abc', 'ab', 'bc', 'b', 'a', 'bca'}\n",
      "abcabcbb\n",
      "************************************\n",
      "left-p:  1  right-p:  5\n",
      "pointed substring:  bcab\n",
      "new char b\n",
      "s[l:r-1]:  bca\n",
      "s[l:r] not in ss:  True\n",
      "s[r-1] not in s[l:r-1]:  False\n",
      "set:  {'abc', 'ab', 'bc', 'b', 'a', 'bca'}\n",
      "abcabcbb\n",
      "************************************\n",
      "left-p:  2  right-p:  3\n",
      "pointed substring:  c\n",
      "new char c\n",
      "s[l:r-1]:  \n",
      "s[l:r] not in ss:  True\n",
      "s[r-1] not in s[l:r-1]:  True\n",
      "set:  {'abc', 'ab', 'bc', 'b', 'a', 'c', 'bca'}\n",
      "abcabcbb\n",
      "************************************\n",
      "left-p:  2  right-p:  4\n",
      "pointed substring:  ca\n",
      "new char a\n",
      "s[l:r-1]:  c\n",
      "s[l:r] not in ss:  True\n",
      "s[r-1] not in s[l:r-1]:  True\n",
      "set:  {'ca', 'abc', 'ab', 'bc', 'b', 'a', 'c', 'bca'}\n",
      "abcabcbb\n",
      "************************************\n",
      "left-p:  2  right-p:  5\n",
      "pointed substring:  cab\n",
      "new char b\n",
      "s[l:r-1]:  ca\n",
      "s[l:r] not in ss:  True\n",
      "s[r-1] not in s[l:r-1]:  True\n",
      "set:  {'ca', 'abc', 'ab', 'bc', 'b', 'cab', 'a', 'c', 'bca'}\n",
      "abcabcbb\n",
      "************************************\n",
      "left-p:  2  right-p:  6\n",
      "pointed substring:  cabc\n",
      "new char c\n",
      "s[l:r-1]:  cab\n",
      "s[l:r] not in ss:  True\n",
      "s[r-1] not in s[l:r-1]:  False\n",
      "set:  {'ca', 'abc', 'ab', 'bc', 'b', 'cab', 'a', 'c', 'bca'}\n",
      "abcabcbb\n",
      "************************************\n",
      "left-p:  3  right-p:  4\n",
      "pointed substring:  a\n",
      "new char a\n",
      "s[l:r-1]:  \n",
      "s[l:r] not in ss:  False\n",
      "s[r-1] not in s[l:r-1]:  True\n",
      "set:  {'ca', 'abc', 'ab', 'bc', 'b', 'cab', 'a', 'c', 'bca'}\n",
      "abcabcbb\n",
      "************************************\n",
      "left-p:  3  right-p:  5\n",
      "pointed substring:  ab\n",
      "new char b\n",
      "s[l:r-1]:  a\n",
      "s[l:r] not in ss:  False\n",
      "s[r-1] not in s[l:r-1]:  True\n",
      "set:  {'ca', 'abc', 'ab', 'bc', 'b', 'cab', 'a', 'c', 'bca'}\n",
      "abcabcbb\n",
      "************************************\n",
      "left-p:  3  right-p:  6\n",
      "pointed substring:  abc\n",
      "new char c\n",
      "s[l:r-1]:  ab\n",
      "s[l:r] not in ss:  False\n",
      "s[r-1] not in s[l:r-1]:  True\n",
      "set:  {'ca', 'abc', 'ab', 'bc', 'b', 'cab', 'a', 'c', 'bca'}\n",
      "abcabcbb\n",
      "************************************\n",
      "left-p:  3  right-p:  7\n",
      "pointed substring:  abcb\n",
      "new char b\n",
      "s[l:r-1]:  abc\n",
      "s[l:r] not in ss:  True\n",
      "s[r-1] not in s[l:r-1]:  False\n",
      "set:  {'ca', 'abc', 'ab', 'bc', 'b', 'cab', 'a', 'c', 'bca'}\n",
      "abcabcbb\n",
      "************************************\n",
      "left-p:  4  right-p:  5\n",
      "pointed substring:  b\n",
      "new char b\n",
      "s[l:r-1]:  \n",
      "s[l:r] not in ss:  False\n",
      "s[r-1] not in s[l:r-1]:  True\n",
      "set:  {'ca', 'abc', 'ab', 'bc', 'b', 'cab', 'a', 'c', 'bca'}\n",
      "abcabcbb\n",
      "************************************\n",
      "left-p:  4  right-p:  6\n",
      "pointed substring:  bc\n",
      "new char c\n",
      "s[l:r-1]:  b\n",
      "s[l:r] not in ss:  False\n",
      "s[r-1] not in s[l:r-1]:  True\n",
      "set:  {'ca', 'abc', 'ab', 'bc', 'b', 'cab', 'a', 'c', 'bca'}\n",
      "abcabcbb\n",
      "************************************\n",
      "left-p:  4  right-p:  7\n",
      "pointed substring:  bcb\n",
      "new char b\n",
      "s[l:r-1]:  bc\n",
      "s[l:r] not in ss:  True\n",
      "s[r-1] not in s[l:r-1]:  False\n",
      "set:  {'ca', 'abc', 'ab', 'bc', 'b', 'cab', 'a', 'c', 'bca'}\n",
      "abcabcbb\n",
      "************************************\n",
      "left-p:  5  right-p:  6\n",
      "pointed substring:  c\n",
      "new char c\n",
      "s[l:r-1]:  \n",
      "s[l:r] not in ss:  False\n",
      "s[r-1] not in s[l:r-1]:  True\n",
      "set:  {'ca', 'abc', 'ab', 'bc', 'b', 'cab', 'a', 'c', 'bca'}\n",
      "abcabcbb\n",
      "************************************\n",
      "left-p:  5  right-p:  7\n",
      "pointed substring:  cb\n",
      "new char b\n",
      "s[l:r-1]:  c\n",
      "s[l:r] not in ss:  True\n",
      "s[r-1] not in s[l:r-1]:  True\n",
      "set:  {'ca', 'abc', 'ab', 'bc', 'b', 'cab', 'cb', 'a', 'c', 'bca'}\n",
      "abcabcbb\n",
      "************************************\n",
      "left-p:  5  right-p:  8\n",
      "pointed substring:  cbb\n",
      "new char b\n",
      "s[l:r-1]:  cb\n",
      "s[l:r] not in ss:  True\n",
      "s[r-1] not in s[l:r-1]:  False\n",
      "set:  {'ca', 'abc', 'ab', 'bc', 'b', 'cab', 'cb', 'a', 'c', 'bca'}\n",
      "abcabcbb\n",
      "************************************\n",
      "left-p:  6  right-p:  7\n",
      "pointed substring:  b\n",
      "new char b\n",
      "s[l:r-1]:  \n",
      "s[l:r] not in ss:  False\n",
      "s[r-1] not in s[l:r-1]:  True\n",
      "set:  {'ca', 'abc', 'ab', 'bc', 'b', 'cab', 'cb', 'a', 'c', 'bca'}\n",
      "abcabcbb\n",
      "************************************\n",
      "left-p:  6  right-p:  8\n",
      "pointed substring:  bb\n",
      "new char b\n",
      "s[l:r-1]:  b\n",
      "s[l:r] not in ss:  True\n",
      "s[r-1] not in s[l:r-1]:  False\n",
      "set:  {'ca', 'abc', 'ab', 'bc', 'b', 'cab', 'cb', 'a', 'c', 'bca'}\n",
      "abcabcbb\n",
      "************************************\n",
      "left-p:  7  right-p:  8\n",
      "pointed substring:  b\n",
      "new char b\n",
      "s[l:r-1]:  \n",
      "s[l:r] not in ss:  False\n",
      "s[r-1] not in s[l:r-1]:  True\n",
      "set:  {'ca', 'abc', 'ab', 'bc', 'b', 'cab', 'cb', 'a', 'c', 'bca'}\n",
      "abcabcbb\n",
      "************************************\n"
     ]
    },
    {
     "data": {
      "text/plain": [
       "3"
      ]
     },
     "execution_count": 244,
     "metadata": {},
     "output_type": "execute_result"
    }
   ],
   "source": [
    "lengthOfLongestSubstring(s1)"
   ]
  },
  {
   "cell_type": "markdown",
   "metadata": {},
   "source": [
    "### cleaned version of my solution"
   ]
  },
  {
   "cell_type": "code",
   "execution_count": 250,
   "metadata": {},
   "outputs": [],
   "source": [
    "def lengthOfLongestSubstring(s: str) -> int:\n",
    "    l, r = 0, 1 \n",
    "    ss = set()\n",
    "    maxlen = 0\n",
    "    while r <= len(s):\n",
    "        if s[r-1] not in s[l:r-1]:\n",
    "            ss.add(s[l:r])\n",
    "            maxlen = max(maxlen, len(s[l:r]))\n",
    "        else:\n",
    "            l += 1\n",
    "            r = l\n",
    "        r += 1\n",
    "    return maxlen"
   ]
  },
  {
   "cell_type": "code",
   "execution_count": 251,
   "metadata": {},
   "outputs": [],
   "source": [
    "assert lengthOfLongestSubstring(s1) == 3\n",
    "assert lengthOfLongestSubstring(s2) == 1\n",
    "assert lengthOfLongestSubstring(s3) == 3"
   ]
  },
  {
   "cell_type": "markdown",
   "metadata": {},
   "source": [
    "### Optimal Solution works on O(n) for algorithm and O(n) for extra space"
   ]
  },
  {
   "cell_type": "code",
   "execution_count": 252,
   "metadata": {},
   "outputs": [],
   "source": [
    "def lengthOfLongestSubstring(s: str) -> int:\n",
    "    charset = set()\n",
    "    l = 0\n",
    "    res = 0\n",
    "    for r in range(len(s)):\n",
    "        while s[r] in charset:\n",
    "            charset.remove(s[l])\n",
    "            l +=1\n",
    "        charset.add(s[r])\n",
    "        print(\"iteration: \", (r+1))\n",
    "        print(\"left: \", l,\" right: \", r)\n",
    "        print(\"right point char: \", s[r])\n",
    "        print(\"charset: \",charset)\n",
    "        res = max(res, r - l + 1)\n",
    "    return res"
   ]
  },
  {
   "cell_type": "code",
   "execution_count": 253,
   "metadata": {},
   "outputs": [
    {
     "name": "stdout",
     "output_type": "stream",
     "text": [
      "iteration:  1\n",
      "left:  0  right:  0\n",
      "right point char:  a\n",
      "charset:  {'a'}\n",
      "iteration:  2\n",
      "left:  0  right:  1\n",
      "right point char:  b\n",
      "charset:  {'b', 'a'}\n",
      "iteration:  3\n",
      "left:  0  right:  2\n",
      "right point char:  c\n",
      "charset:  {'b', 'a', 'c'}\n",
      "iteration:  4\n",
      "left:  1  right:  3\n",
      "right point char:  a\n",
      "charset:  {'a', 'b', 'c'}\n",
      "iteration:  5\n",
      "left:  2  right:  4\n",
      "right point char:  b\n",
      "charset:  {'a', 'c', 'b'}\n",
      "iteration:  6\n",
      "left:  3  right:  5\n",
      "right point char:  c\n",
      "charset:  {'a', 'c', 'b'}\n",
      "iteration:  7\n",
      "left:  5  right:  6\n",
      "right point char:  b\n",
      "charset:  {'c', 'b'}\n",
      "iteration:  8\n",
      "left:  7  right:  7\n",
      "right point char:  b\n",
      "charset:  {'b'}\n"
     ]
    },
    {
     "data": {
      "text/plain": [
       "3"
      ]
     },
     "execution_count": 253,
     "metadata": {},
     "output_type": "execute_result"
    }
   ],
   "source": [
    "lengthOfLongestSubstring(s1)"
   ]
  },
  {
   "cell_type": "code",
   "execution_count": null,
   "metadata": {},
   "outputs": [],
   "source": []
  }
 ],
 "metadata": {
  "kernelspec": {
   "display_name": "env3.9",
   "language": "python",
   "name": "python3"
  },
  "language_info": {
   "codemirror_mode": {
    "name": "ipython",
    "version": 3
   },
   "file_extension": ".py",
   "mimetype": "text/x-python",
   "name": "python",
   "nbconvert_exporter": "python",
   "pygments_lexer": "ipython3",
   "version": "3.9.20"
  }
 },
 "nbformat": 4,
 "nbformat_minor": 2
}
